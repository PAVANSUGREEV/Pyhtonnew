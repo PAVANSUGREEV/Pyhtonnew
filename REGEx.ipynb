{
  "nbformat": 4,
  "nbformat_minor": 0,
  "metadata": {
    "colab": {
      "name": "REGEx.ipynb",
      "provenance": [],
      "authorship_tag": "ABX9TyPN//DNvaQBTjY2i5TcjQMM",
      "include_colab_link": true
    },
    "kernelspec": {
      "name": "python3",
      "display_name": "Python 3"
    },
    "language_info": {
      "name": "python"
    }
  },
  "cells": [
    {
      "cell_type": "markdown",
      "metadata": {
        "id": "view-in-github",
        "colab_type": "text"
      },
      "source": [
        "<a href=\"https://colab.research.google.com/github/PAVANSUGREEV/Pyhtonnew/blob/Module-5/REGEx.ipynb\" target=\"_parent\"><img src=\"https://colab.research.google.com/assets/colab-badge.svg\" alt=\"Open In Colab\"/></a>"
      ]
    },
    {
      "cell_type": "markdown",
      "source": [
        "Search"
      ],
      "metadata": {
        "id": "n67L5eVJ2kH5"
      }
    },
    {
      "cell_type": "code",
      "execution_count": null,
      "metadata": {
        "colab": {
          "base_uri": "https://localhost:8080/"
        },
        "outputId": "d653bd51-b4fe-405d-b91a-6f3ba7a94c33",
        "id": "RPd8TOhu1sFa"
      },
      "outputs": [
        {
          "output_type": "stream",
          "name": "stdout",
          "text": [
            "Found!\n"
          ]
        }
      ],
      "source": [
        "import re\n",
        "txt=(\"I am intreseted in nothing and had nothing to do mush as i am intrested in nothing\")\n",
        "x=re.search(\"intrested in nothing\",txt)\n",
        "if x:\n",
        "  print(\"Found!\")\n",
        "else:\n",
        "  print(\"NotFound!\")  "
      ]
    },
    {
      "cell_type": "markdown",
      "source": [
        "Searching\n"
      ],
      "metadata": {
        "id": "xW9Sn_IP2nxI"
      }
    },
    {
      "cell_type": "code",
      "source": [
        "import re\n",
        "txt=(\"I am intreseted in nothing and had nothing to do mush as i am intrested in nothingThe list contains the matches in the order they are found If no matches are found, an empty list is returned\")\n",
        "x=re.search(\"List\",txt)\n",
        "if x:\n",
        "  print(\"Found!\")\n",
        "else:\n",
        "  print(\"NotFound!\")  "
      ],
      "metadata": {
        "colab": {
          "base_uri": "https://localhost:8080/"
        },
        "outputId": "daf0b3a5-242b-4f46-92b5-7d204382dafd",
        "id": "6xLlpsbf1sFd"
      },
      "execution_count": null,
      "outputs": [
        {
          "output_type": "stream",
          "name": "stdout",
          "text": [
            "NotFound!\n"
          ]
        }
      ]
    },
    {
      "cell_type": "markdown",
      "source": [
        "Using \\s is used to check firwst space\n"
      ],
      "metadata": {
        "id": "5Ao7ITUQ2ufA"
      }
    },
    {
      "cell_type": "code",
      "source": [
        "import re\n",
        "\n",
        "txt = \"Theeeeeeeeeeeeeeeeeeeeeeeeeeeeee rain in Spain nd had nothing to do mush as i am intrested in nothingThe list contains the matches in the order they are found If no matches are found, an empty list is returned\"\n",
        "x = re.search(\"\\s\", txt)\n",
        "\n",
        "print(\"The first white-space character is located in position:\", x.start())"
      ],
      "metadata": {
        "colab": {
          "base_uri": "https://localhost:8080/"
        },
        "outputId": "4683df77-0b20-4343-9cf6-82a67f746f04",
        "id": "gptOwegk1sFd"
      },
      "execution_count": null,
      "outputs": [
        {
          "output_type": "stream",
          "name": "stdout",
          "text": [
            "The first white-space character is located in position: 32\n"
          ]
        }
      ]
    },
    {
      "cell_type": "markdown",
      "source": [
        "Using split\n",
        "\n",
        "\n",
        "\n",
        "\n",
        "\n",
        "\n",
        "\n",
        "\n",
        "\n",
        "\n"
      ],
      "metadata": {
        "id": "9Hwly8IA27Op"
      }
    },
    {
      "cell_type": "code",
      "source": [
        "import re\n",
        "\n",
        "txt = \"The rain in Spain\"\n",
        "x = re.split(\"\\s\", txt, 1,2)\n",
        "print(x)"
      ],
      "metadata": {
        "colab": {
          "base_uri": "https://localhost:8080/"
        },
        "outputId": "3e4f7d4b-8e4c-47e5-cd4d-de9647a0d9b9",
        "id": "kSujYiV51sFe"
      },
      "execution_count": null,
      "outputs": [
        {
          "output_type": "stream",
          "name": "stdout",
          "text": [
            "['The', 'rain in Spain']\n"
          ]
        }
      ]
    },
    {
      "cell_type": "markdown",
      "source": [
        "Searching intrms of Characterstics"
      ],
      "metadata": {
        "id": "LshKLwcV3CmQ"
      }
    },
    {
      "cell_type": "code",
      "source": [
        "import re\n",
        "\n",
        "txt = \"The rain in Spain eeeeee rain in Spain nd had 999 Dollarnothing to do mush as i am intrested in nothingThe list contains the matches 120545163532135465459647985231684 64568746 45357 5465in the order they are found If no matches are found, an empty list is returned\"\n",
        "\n",
        "#Find all lower case characters alphabetically between \"a\" and \"m\":\n",
        "\n",
        "x = re.findall(\"[a-z]\", txt)\n",
        "print(x)\n",
        "t = re.findall(\"\\d\", txt)\n",
        "print(t)"
      ],
      "metadata": {
        "colab": {
          "base_uri": "https://localhost:8080/"
        },
        "outputId": "1bdf1408-8c8b-4f7b-b08b-227fc0befad1",
        "id": "Ut6HWXZ61sFe"
      },
      "execution_count": null,
      "outputs": [
        {
          "output_type": "stream",
          "name": "stdout",
          "text": [
            "['h', 'e', 'r', 'a', 'i', 'n', 'i', 'n', 'p', 'a', 'i', 'n', 'e', 'e', 'e', 'e', 'e', 'e', 'r', 'a', 'i', 'n', 'i', 'n', 'p', 'a', 'i', 'n', 'n', 'd', 'h', 'a', 'd', 'o', 'l', 'l', 'a', 'r', 'n', 'o', 't', 'h', 'i', 'n', 'g', 't', 'o', 'd', 'o', 'm', 'u', 's', 'h', 'a', 's', 'i', 'a', 'm', 'i', 'n', 't', 'r', 'e', 's', 't', 'e', 'd', 'i', 'n', 'n', 'o', 't', 'h', 'i', 'n', 'g', 'h', 'e', 'l', 'i', 's', 't', 'c', 'o', 'n', 't', 'a', 'i', 'n', 's', 't', 'h', 'e', 'm', 'a', 't', 'c', 'h', 'e', 's', 'i', 'n', 't', 'h', 'e', 'o', 'r', 'd', 'e', 'r', 't', 'h', 'e', 'y', 'a', 'r', 'e', 'f', 'o', 'u', 'n', 'd', 'f', 'n', 'o', 'm', 'a', 't', 'c', 'h', 'e', 's', 'a', 'r', 'e', 'f', 'o', 'u', 'n', 'd', 'a', 'n', 'e', 'm', 'p', 't', 'y', 'l', 'i', 's', 't', 'i', 's', 'r', 'e', 't', 'u', 'r', 'n', 'e', 'd']\n",
            "['9', '9', '9', '1', '2', '0', '5', '4', '5', '1', '6', '3', '5', '3', '2', '1', '3', '5', '4', '6', '5', '4', '5', '9', '6', '4', '7', '9', '8', '5', '2', '3', '1', '6', '8', '4', '6', '4', '5', '6', '8', '7', '4', '6', '4', '5', '3', '5', '7', '5', '4', '6', '5']\n"
          ]
        }
      ]
    },
    {
      "cell_type": "markdown",
      "source": [
        ""
      ],
      "metadata": {
        "id": "cWSmpm9p3Hmg"
      }
    },
    {
      "cell_type": "code",
      "source": [
        "import re\n",
        "\n",
        "txt = \"The rain in Spain\"\n",
        "x = re.split(\"\\s\", txt)\n",
        "print(x)\n"
      ],
      "metadata": {
        "colab": {
          "base_uri": "https://localhost:8080/"
        },
        "id": "qiRTYYeB0qWp",
        "outputId": "9070ce44-f977-4b4e-fe28-7e3a907ffe08"
      },
      "execution_count": null,
      "outputs": [
        {
          "output_type": "stream",
          "name": "stdout",
          "text": [
            "['The', 'rain', 'in', 'Spain']\n"
          ]
        }
      ]
    },
    {
      "cell_type": "code",
      "source": [
        "import re\n",
        "txt = \"hello planet\"\n",
        "x = re.findall(\"he.?o\", txt)\n",
        "print(x)"
      ],
      "metadata": {
        "colab": {
          "base_uri": "https://localhost:8080/"
        },
        "id": "46VsWabm1zvg",
        "outputId": "b4035652-f8ab-4896-b274-192bb12f06ee"
      },
      "execution_count": null,
      "outputs": [
        {
          "output_type": "stream",
          "name": "stdout",
          "text": [
            "[]\n"
          ]
        }
      ]
    },
    {
      "cell_type": "markdown",
      "source": [
        "Write a Python program that matches a string that has an a followed by zero or more b's"
      ],
      "metadata": {
        "id": "asK9wOlV1ezo"
      }
    },
    {
      "cell_type": "code",
      "source": [
        "import re\n",
        "def text_match(text):\n",
        "        patterns = '^a(b*)$'\n",
        "        if re.search(patterns,  text):\n",
        "                return 'Found a match!'\n",
        "        else:\n",
        "                return('Not matched!')\n",
        "print(text_match(\"ac\"))\n",
        "print(text_match(\"abc\"))\n",
        "print(text_match(\"a\"))\n",
        "print(text_match(\"ab\"))\n",
        "print(text_match(\"abb\"))"
      ],
      "metadata": {
        "id": "W_vxp3IM2GBQ",
        "colab": {
          "base_uri": "https://localhost:8080/"
        },
        "outputId": "4ddd104f-c1c5-452f-e9d4-a5a6f148c18a"
      },
      "execution_count": null,
      "outputs": [
        {
          "output_type": "stream",
          "name": "stdout",
          "text": [
            "Not matched!\n",
            "Not matched!\n",
            "Found a match!\n",
            "Found a match!\n",
            "Found a match!\n"
          ]
        }
      ]
    },
    {
      "cell_type": "markdown",
      "source": [
        "Write a Python program that matches a string that has an a followed by one or more b's\n"
      ],
      "metadata": {
        "id": "0SSrPM0m1pXR"
      }
    },
    {
      "cell_type": "code",
      "source": [
        "import re\n",
        "def text_match(text):\n",
        "        patterns = 'ab+?'\n",
        "        if re.search(patterns,  text):\n",
        "                return 'Found a match!'\n",
        "        else:\n",
        "                return('Not matched!')\n",
        "\n",
        "print(text_match(\"ab\"))\n",
        "print(text_match(\"abc\"))"
      ],
      "metadata": {
        "colab": {
          "base_uri": "https://localhost:8080/"
        },
        "id": "coIv5BZM1sQP",
        "outputId": "772740eb-4066-4576-9d4c-61091cff99c0"
      },
      "execution_count": null,
      "outputs": [
        {
          "output_type": "stream",
          "name": "stdout",
          "text": [
            "Found a match!\n",
            "Found a match!\n"
          ]
        }
      ]
    },
    {
      "cell_type": "markdown",
      "source": [
        "Write a Python program that matches a string that has an a followed by zero or one 'b'\n"
      ],
      "metadata": {
        "id": "Byy3SZdI1w-4"
      }
    },
    {
      "cell_type": "code",
      "source": [
        "import re\n",
        "def text_match(text):\n",
        "        patterns = 'ab?'\n",
        "        if re.search(patterns,  text):\n",
        "                return 'Found a match!'\n",
        "        else:\n",
        "                return('Not matched!')\n",
        "\n",
        "print(text_match(\"ab\"))\n",
        "print(text_match(\"abc\"))\n",
        "print(text_match(\"abbc\"))\n",
        "print(text_match(\"aabbc\"))"
      ],
      "metadata": {
        "colab": {
          "base_uri": "https://localhost:8080/"
        },
        "id": "FsjxCGv81zEn",
        "outputId": "70341cbd-90fb-4c95-e177-e2449a8afb7b"
      },
      "execution_count": null,
      "outputs": [
        {
          "output_type": "stream",
          "name": "stdout",
          "text": [
            "Found a match!\n",
            "Found a match!\n",
            "Found a match!\n",
            "Found a match!\n"
          ]
        }
      ]
    },
    {
      "cell_type": "markdown",
      "source": [
        "Write a Python program that matches a string that has an a followed by three 'b'"
      ],
      "metadata": {
        "id": "qKxpUStV2QAP"
      }
    },
    {
      "cell_type": "code",
      "source": [
        "import re\n",
        "def text_match(text):\n",
        "        patterns = 'ab{3}?'\n",
        "        if re.search(patterns,  text):\n",
        "                return 'Found a match!'\n",
        "        else:\n",
        "                return('Not matched!')\n",
        "\n",
        "print(text_match(\"abbb\"))\n",
        "print(text_match(\"aabbbbbc\"))"
      ],
      "metadata": {
        "colab": {
          "base_uri": "https://localhost:8080/"
        },
        "id": "kwXyntUG2NqJ",
        "outputId": "2fbf7647-1780-44d7-9f7d-668bff7f833c"
      },
      "execution_count": null,
      "outputs": [
        {
          "output_type": "stream",
          "name": "stdout",
          "text": [
            "Found a match!\n",
            "Found a match!\n"
          ]
        }
      ]
    },
    {
      "cell_type": "markdown",
      "source": [
        "Write a Python program to find sequences of lowercase letters joined with an underscore"
      ],
      "metadata": {
        "id": "ncPu7r6M3SSJ"
      }
    },
    {
      "cell_type": "code",
      "source": [
        "import re\n",
        "def text_match(text):\n",
        "        patterns = '^[a-z]+_[a-z]+$'\n",
        "        if re.search(patterns,  text):\n",
        "                return 'Found a match!'\n",
        "        else:\n",
        "                return('Not matched!')\n",
        "\n",
        "print(text_match(\"aab_cbbbc\"))\n",
        "print(text_match(\"aab_Abbbc\"))\n",
        "print(text_match(\"Aaab_abbbc\"))"
      ],
      "metadata": {
        "colab": {
          "base_uri": "https://localhost:8080/"
        },
        "id": "XeEqxG3N3OKq",
        "outputId": "bc30231b-8882-47d9-bf80-ef5ccf8060f0"
      },
      "execution_count": null,
      "outputs": [
        {
          "output_type": "stream",
          "name": "stdout",
          "text": [
            "Found a match!\n",
            "Not matched!\n",
            "Not matched!\n"
          ]
        }
      ]
    },
    {
      "cell_type": "code",
      "source": [
        ""
      ],
      "metadata": {
        "id": "H7sPmuqN3g8q"
      },
      "execution_count": null,
      "outputs": []
    }
  ]
}