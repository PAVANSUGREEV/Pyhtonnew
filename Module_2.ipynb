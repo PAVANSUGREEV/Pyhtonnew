{
  "nbformat": 4,
  "nbformat_minor": 0,
  "metadata": {
    "colab": {
      "name": "Module 2.ipynb",
      "provenance": [],
      "authorship_tag": "ABX9TyMT5UlwNsDymeHOY/51Np/t",
      "include_colab_link": true
    },
    "kernelspec": {
      "name": "python3",
      "display_name": "Python 3"
    },
    "language_info": {
      "name": "python"
    }
  },
  "cells": [
    {
      "cell_type": "markdown",
      "metadata": {
        "id": "view-in-github",
        "colab_type": "text"
      },
      "source": [
        "<a href=\"https://colab.research.google.com/github/PAVANSUGREEV/Pyhtonnew/blob/Module2/Module_2.ipynb\" target=\"_parent\"><img src=\"https://colab.research.google.com/assets/colab-badge.svg\" alt=\"Open In Colab\"/></a>"
      ]
    },
    {
      "cell_type": "markdown",
      "source": [
        "Create a function which accepts two inputs from the user and compute nCr"
      ],
      "metadata": {
        "id": "Mc1HoINLNADf"
      }
    },
    {
      "cell_type": "code",
      "execution_count": null,
      "metadata": {
        "id": "cgnYBGq4JLIb",
        "colab": {
          "base_uri": "https://localhost:8080/"
        },
        "outputId": "db4a0364-ce0f-4f62-c18e-8143e2b2f47e"
      },
      "outputs": [
        {
          "output_type": "stream",
          "name": "stdout",
          "text": [
            "10\n",
            "6\n",
            "210\n"
          ]
        }
      ],
      "source": [
        "def ncr(x,y):\n",
        "  a=x-y\n",
        "  if a==0:\n",
        "    print(\"undifined\")\n",
        "  else:\n",
        "    return (fact(x) / (fact(y)* fact(x - y)))\n",
        "def fact(x):\n",
        " \n",
        "    res = 1\n",
        "     \n",
        "    for i in range(2, x+1):\n",
        "        res = res * i\n",
        "    return res  \n",
        "      \n",
        "x=int(input())\n",
        "y=int(input())\n",
        "print(int(ncr(x,y)))"
      ]
    },
    {
      "cell_type": "markdown",
      "source": [
        "Recursive function to compute GCD of 2 numbers"
      ],
      "metadata": {
        "id": "qheFHY08OjlN"
      }
    },
    {
      "cell_type": "code",
      "source": [
        "def GCD(x,y):\n",
        "    r=x%y\n",
        "    if(r==0):\n",
        "        return y\n",
        "    else:\n",
        "        return GCD(y,r)\n",
        "a= int(input())\n",
        "b= int(input())\n",
        "print(\"The GCD of two numbers is:\", GCD(a,b))"
      ],
      "metadata": {
        "colab": {
          "base_uri": "https://localhost:8080/"
        },
        "id": "PoJ902tXOmGs",
        "outputId": "96097c2a-a91f-45ec-ebf4-e799fb41327c"
      },
      "execution_count": null,
      "outputs": [
        {
          "output_type": "stream",
          "name": "stdout",
          "text": [
            "24\n",
            "56\n",
            "The GCD of two numbers is: 8\n"
          ]
        }
      ]
    },
    {
      "cell_type": "markdown",
      "source": [
        "Recursive function to find product of two numbers"
      ],
      "metadata": {
        "id": "hZJU8-xGO03p"
      }
    },
    {
      "cell_type": "code",
      "source": [
        "def product( x , y ):\n",
        "    if x < y:\n",
        "        return product(y, x)\n",
        "    elif y!= 0:\n",
        "        return (x + product(x, y - 1))\n",
        "    else:\n",
        "        return 0\n",
        "x =int(input())\n",
        "y = int(input())\n",
        "print(product(x, y))\n",
        " "
      ],
      "metadata": {
        "colab": {
          "base_uri": "https://localhost:8080/"
        },
        "id": "umkBCmTtO3De",
        "outputId": "82b21804-2bcb-42e1-e708-f693e12307e7"
      },
      "execution_count": null,
      "outputs": [
        {
          "output_type": "stream",
          "name": "stdout",
          "text": [
            "20\n",
            "6\n",
            "120\n"
          ]
        }
      ]
    },
    {
      "cell_type": "markdown",
      "source": [
        "Recursive function to generate Fibonacci series\n"
      ],
      "metadata": {
        "id": "Y_HKLIjMPyOB"
      }
    },
    {
      "cell_type": "code",
      "source": [
        "def recurfibo(n):  \n",
        "   if n <= 1:  \n",
        "       return n  \n",
        "   else:  \n",
        "       return(recurfibo(n-1) + recurfibo(n-2))  \n",
        "nterms=int(input())\n",
        "if nterms<= 0:  \n",
        "   print(\"Enter Positive number\")  \n",
        "else:  \n",
        "   print(\"Fibonacci's are\")  \n",
        "   for i in range(nterms):  \n",
        "       print(recurfibo(i))  "
      ],
      "metadata": {
        "id": "6iKRbhFaP0de",
        "colab": {
          "base_uri": "https://localhost:8080/"
        },
        "outputId": "203b1084-b3a8-42d8-a7ae-f5a8d86b68b9"
      },
      "execution_count": null,
      "outputs": [
        {
          "output_type": "stream",
          "name": "stdout",
          "text": [
            "20\n",
            "Fibonacci's are\n",
            "0\n",
            "1\n",
            "1\n",
            "2\n",
            "3\n",
            "5\n",
            "8\n",
            "13\n",
            "21\n",
            "34\n",
            "55\n",
            "89\n",
            "144\n",
            "233\n",
            "377\n",
            "610\n",
            "987\n",
            "1597\n",
            "2584\n",
            "4181\n"
          ]
        }
      ]
    },
    {
      "cell_type": "markdown",
      "source": [
        "Program to print a specified list after removing the 0th, 4th and 5th elements.\n",
        "Sample List : ['Red', 'Green', 'White', 'Black', 'Pink', 'Yellow']\n",
        "Expected Output : ['Green', 'White', 'Black']"
      ],
      "metadata": {
        "id": "ke8HJtFCeiv0"
      }
    },
    {
      "cell_type": "code",
      "source": [
        "samplelist= ['Red','Green','White','Black','Pink','Yellow']\n",
        "samplelist.pop(0)\n",
        "samplelist.pop()\n",
        "samplelist.pop()\n",
        "print(samplelist)"
      ],
      "metadata": {
        "colab": {
          "base_uri": "https://localhost:8080/"
        },
        "id": "5ZmLyHVlejSD",
        "outputId": "56167105-715b-4f19-b8a7-1bb0bfbc4d73"
      },
      "execution_count": null,
      "outputs": [
        {
          "output_type": "stream",
          "name": "stdout",
          "text": [
            "['Green', 'White', 'Black']\n"
          ]
        }
      ]
    },
    {
      "cell_type": "markdown",
      "source": [
        "Program to get the difference between the two lists"
      ],
      "metadata": {
        "id": "ua8j6tAhgErr"
      }
    },
    {
      "cell_type": "code",
      "source": [
        "def Diff(li1, li2):\n",
        "    lidif = [i for i in li1 + li2 if i not in li1 or i not in li2]\n",
        "    return lidif\n",
        "\n",
        "li1 = [10, 15, 20, 25, 30, 35, 40]\n",
        "li2 = [25, 40, 35]\n",
        "li3 = Diff(li1, li2)\n",
        "print(li3)"
      ],
      "metadata": {
        "colab": {
          "base_uri": "https://localhost:8080/"
        },
        "id": "wufrC7nQgHRj",
        "outputId": "6f7f3d35-7738-43ed-e185-af5812277b6f"
      },
      "execution_count": null,
      "outputs": [
        {
          "output_type": "stream",
          "name": "stdout",
          "text": [
            "[10, 15, 20, 30]\n"
          ]
        }
      ]
    },
    {
      "cell_type": "markdown",
      "source": [
        "Program to find the second smallest number and second largest number in a list."
      ],
      "metadata": {
        "id": "IQXt7E6EhOpb"
      }
    },
    {
      "cell_type": "code",
      "source": [
        "def findlen(list1):\n",
        "\tlength = len(list1)\n",
        "\tlist1.sort()\n",
        "\tprint(\"Largest element is:\", list1[length-1])\n",
        "\tprint(\"Smallest element is:\", list1[0])\n",
        "\tprint(\"Second Largest element is:\", list1[length-2])\n",
        "\tprint(\"Second Smallest element is:\", list1[1])\n",
        "list1=[12, 45, 2, 41, 31, 10, 8, 6, 4]\n",
        "Largest = findlen(list1)"
      ],
      "metadata": {
        "colab": {
          "base_uri": "https://localhost:8080/"
        },
        "id": "7i9Uuj_chQ_y",
        "outputId": "c5bd89ce-4ba6-44a2-e645-ec7b03c53da1"
      },
      "execution_count": null,
      "outputs": [
        {
          "output_type": "stream",
          "name": "stdout",
          "text": [
            "Largest element is: 45\n",
            "Smallest element is: 2\n",
            "Second Largest element is: 41\n",
            "Second Smallest element is: 4\n"
          ]
        }
      ]
    },
    {
      "cell_type": "markdown",
      "source": [
        "Given a list of numbers of list, write a Python program to create a list of tuples\n",
        "having first element as the number and second element as the square of the\n",
        "number"
      ],
      "metadata": {
        "id": "IIJnb45RioLS"
      }
    },
    {
      "cell_type": "code",
      "source": [
        "list = [23, 42, 67, 89, 11, 32,44]\n",
        "print(\"The list is \")\n",
        "print(list)\n",
        "print(\"The required tuple is :\")\n",
        "res = [(x, pow(x, 2)) for x in list]\n",
        "print(res)"
      ],
      "metadata": {
        "colab": {
          "base_uri": "https://localhost:8080/"
        },
        "id": "5KbBTbyEisAi",
        "outputId": "89706a9c-d51c-457b-9420-9546258ba6ae"
      },
      "execution_count": null,
      "outputs": [
        {
          "output_type": "stream",
          "name": "stdout",
          "text": [
            "The list is \n",
            "[23, 42, 67, 89, 11, 32, 44]\n",
            "The required tuple is :\n",
            "[(23, 529), (42, 1764), (67, 4489), (89, 7921), (11, 121), (32, 1024), (44, 1936)]\n"
          ]
        }
      ]
    },
    {
      "cell_type": "markdown",
      "source": [
        "Given list of tuples, remove all the tuples with length K.                                           \n",
        "Input : testlist = [(4, 5), (4, ), (8, 6, 7), (1, ), (3, 4, 6, 7)], K = 2                      \n",
        "Output : [(4, ), (8, 6, 7), (1, ), (3, 4, 6, 7)]                                 \n",
        "Explanation : (4, 5) of len = 2 is removed."
      ],
      "metadata": {
        "id": "b559ulralc6i"
      }
    },
    {
      "cell_type": "code",
      "source": [
        "testlist = [(4, 5), (4, ), (8, 6, 7), (1, ), (3, 4, 6, 7)]\n",
        "print(\"The original list : \" + str(testlist))\n",
        "K = 1\n",
        "# filter just lengths other than K \n",
        "# len() used to compute length\n",
        "res = [x for x in testlist if len(x) != K]\n",
        "print(\"Filtered list : \" + str(res))"
      ],
      "metadata": {
        "colab": {
          "base_uri": "https://localhost:8080/"
        },
        "id": "SkqHs_qmmJ4C",
        "outputId": "d7279a4c-8e16-4c82-f9ba-1838ac422630"
      },
      "execution_count": null,
      "outputs": [
        {
          "output_type": "stream",
          "name": "stdout",
          "text": [
            "The original list : [(4, 5), (4,), (8, 6, 7), (1,), (3, 4, 6, 7)]\n",
            "Filtered list : [(4, 5), (8, 6, 7), (3, 4, 6, 7)]\n"
          ]
        }
      ]
    },
    {
      "cell_type": "markdown",
      "source": [
        "Program to generate and print a dictionary that contains a number (between 1\n",
        "and n) in the form (x, x*x).\n",
        "\n",
        "Sample Input: (n=5) \n",
        "\n",
        "Expected Output : {1: 1, 2: 4, 3: 9, 4: 16, 5: 25}"
      ],
      "metadata": {
        "id": "BCi2nH1MqAAi"
      }
    },
    {
      "cell_type": "code",
      "source": [
        "n=int(input(\"Input a number \"))\n",
        "d = dict()\n",
        "for x in range(1,n+1):\n",
        "    d[x]=x*x\n",
        "print(d)"
      ],
      "metadata": {
        "colab": {
          "base_uri": "https://localhost:8080/"
        },
        "id": "gMVPLEa4qHwX",
        "outputId": "1a19ed55-c662-4a41-c0ec-23db203ddcaf"
      },
      "execution_count": null,
      "outputs": [
        {
          "output_type": "stream",
          "name": "stdout",
          "text": [
            "Input a number 5\n",
            "{1: 1, 2: 4, 3: 9, 4: 16, 5: 25}\n"
          ]
        }
      ]
    },
    {
      "cell_type": "markdown",
      "source": [
        "Program to remove a key from a dictionary"
      ],
      "metadata": {
        "id": "TVguLp4hqTAB"
      }
    },
    {
      "cell_type": "code",
      "source": [
        "dicti={\"a\":12,\"b\":43,\"c\":56}\n",
        "print(dicti)\n",
        "if \"c\" in dicti:\n",
        "  del dicti[\"c\"]\n",
        "print(dicti)"
      ],
      "metadata": {
        "colab": {
          "base_uri": "https://localhost:8080/"
        },
        "id": "Z_Yznd8XrC34",
        "outputId": "f85217f6-c8c0-4610-cb3c-9fe7598f7b58"
      },
      "execution_count": null,
      "outputs": [
        {
          "output_type": "stream",
          "name": "stdout",
          "text": [
            "{'a': 12, 'b': 43, 'c': 56}\n",
            "{'a': 12, 'b': 43}\n"
          ]
        }
      ]
    },
    {
      "cell_type": "markdown",
      "source": [
        "Program to get the maximum and minimum value in a dictionary."
      ],
      "metadata": {
        "id": "0OzdF1-TLjJy"
      }
    },
    {
      "cell_type": "code",
      "source": [
        "mydict = {'x':500, 'y':5874, 'z': 560}\n",
        "keymax = max(mydict.keys(),key=(lambda k: mydict[k]))\n",
        "keymin = min(mydict.keys(),key=(lambda k: mydict[k]))\n",
        "print('Maximum Value: ',mydict[keymax])\n",
        "print('Minimum Value: ',mydict[keymin])"
      ],
      "metadata": {
        "colab": {
          "base_uri": "https://localhost:8080/"
        },
        "id": "9lSsdjUhzzw5",
        "outputId": "b56ff138-a2b6-4e69-8790-ea04742d098e"
      },
      "execution_count": null,
      "outputs": [
        {
          "output_type": "stream",
          "name": "stdout",
          "text": [
            "Maximum Value:  5874\n",
            "Minimum Value:  500\n"
          ]
        }
      ]
    },
    {
      "cell_type": "markdown",
      "source": [
        "Program for Counting occurrence of a certain element in a string, getting indexes that\n",
        "have matching elements.For ex -.In Rabbit count how many times b has occurred .\n",
        "Example-I have to go to a doctor and get myself checked. Count the number of\n",
        "occXrrences of \"to\n"
      ],
      "metadata": {
        "id": "Apwn15ur6oDA"
      }
    },
    {
      "cell_type": "code",
      "source": [
        "x=\"I have to go to a doctor and get myself checked\"\n",
        "y=x.count(\"to\")\n",
        "print(y)"
      ],
      "metadata": {
        "colab": {
          "base_uri": "https://localhost:8080/"
        },
        "id": "bRTuSZPF6oyn",
        "outputId": "7c28dda4-711f-471b-f08c-5be1e1bb6fb1"
      },
      "execution_count": null,
      "outputs": [
        {
          "output_type": "stream",
          "name": "stdout",
          "text": [
            "3\n"
          ]
        }
      ]
    },
    {
      "cell_type": "markdown",
      "source": [
        "Program for replacing one substring by another For example - Rabbit - Replace bb to cc\n"
      ],
      "metadata": {
        "id": "v84hPuhH-UFQ"
      }
    },
    {
      "cell_type": "code",
      "source": [
        "s=\"Rabbit\"\n",
        "x=s.replace('bb','cc')\n",
        "print(x)"
      ],
      "metadata": {
        "colab": {
          "base_uri": "https://localhost:8080/"
        },
        "id": "TsH-af_Z-XQH",
        "outputId": "63ebf828-3719-4e31-dfe2-2c2b0c62c185"
      },
      "execution_count": null,
      "outputs": [
        {
          "output_type": "stream",
          "name": "stdout",
          "text": [
            "Raccit\n"
          ]
        }
      ]
    },
    {
      "cell_type": "markdown",
      "source": [
        "Program to Acronym generator for any user input (ex-input is Random memory access\n",
        "then output should be RMA).Example - Random number (RN)"
      ],
      "metadata": {
        "id": "yMfnsWdo_-Bf"
      }
    },
    {
      "cell_type": "code",
      "source": [
        "userinput =input(\"Enter a phrase: \")\n",
        "phrase =(userinput.replace('of','')).split()\n",
        "acronym =\"\"\n",
        "for word in phrase:\n",
        "    acronym = acronym + word[0].upper()\n",
        "    print(f'Acronym of {userinput} is {acronym}')"
      ],
      "metadata": {
        "colab": {
          "base_uri": "https://localhost:8080/"
        },
        "id": "pntgzgMfAAmX",
        "outputId": "5376e462-5d37-446a-ae0f-49c0c574820b"
      },
      "execution_count": null,
      "outputs": [
        {
          "output_type": "stream",
          "name": "stdout",
          "text": [
            "Enter a phrase: Random memory access\n",
            "Acronym of Random memory access is R\n",
            "Acronym of Random memory access is RM\n",
            "Acronym of Random memory access is RMA\n"
          ]
        }
      ]
    },
    {
      "cell_type": "markdown",
      "source": [
        "Python function that accepts a string and calculates the number of uppercase\n",
        "letters and lowercase letters."
      ],
      "metadata": {
        "id": "syDlJEYGtAo-"
      }
    },
    {
      "cell_type": "code",
      "source": [
        "def test(s):\n",
        "    u={\"UPPERCASE\":0, \"LOWERCASE\":0}\n",
        "    for x in s:\n",
        "        if x.isupper():\n",
        "           u[\"UPPERCASE\"]+=1\n",
        "        elif x.islower():\n",
        "           u[\"LOWERCASE\"]+=1\n",
        "        else:\n",
        "           pass\n",
        "    print (\"Given string :\", s)\n",
        "    print (\"No. of Uppercase characters : \", u[\"UPPERCASE\"])\n",
        "    print (\"No. of Lowercase Characters : \", u[\"LOWERCASE\"])\n",
        "test(input())"
      ],
      "metadata": {
        "id": "cBB4-a3eBd58",
        "colab": {
          "base_uri": "https://localhost:8080/"
        },
        "outputId": "645a741c-d9b0-4aac-d497-cd25e6c91740"
      },
      "execution_count": null,
      "outputs": [
        {
          "output_type": "stream",
          "name": "stdout",
          "text": [
            "PAVNAMSiusfiujsKOrfgGBDFS\n",
            "Given string : PAVNAMSiusfiujsKOrfgGBDFS\n",
            "No. of Uppercase characters :  14\n",
            "No. of Lowercase Characters :  11\n"
          ]
        }
      ]
    },
    {
      "cell_type": "markdown",
      "source": [
        "Program to count the number of strings where the string length is 2 or more and\n",
        "the first and last character are same from a given list of strings"
      ],
      "metadata": {
        "id": "YATN3BmGxHE2"
      }
    },
    {
      "cell_type": "code",
      "source": [
        "def words(words):\n",
        "  x = 0\n",
        "  for word in words:\n",
        "    if len(word) > 1 and word[0] == word[-1]:\n",
        "      x += 1\n",
        "  return x\n",
        "print(words(['abc', 'xyz', 'aba', '1221',\"carsc\",\"Keysjdaslk\",\"Meme\"]))"
      ],
      "metadata": {
        "colab": {
          "base_uri": "https://localhost:8080/"
        },
        "id": "EXJZQ55bxIfO",
        "outputId": "c3e21e94-2dd3-4dfd-bed3-697348e73a63"
      },
      "execution_count": null,
      "outputs": [
        {
          "output_type": "stream",
          "name": "stdout",
          "text": [
            "3\n"
          ]
        }
      ]
    }
  ]
}