{
  "nbformat": 4,
  "nbformat_minor": 0,
  "metadata": {
    "colab": {
      "name": "Assignment.ipynb",
      "provenance": [],
      "collapsed_sections": [],
      "authorship_tag": "ABX9TyMzM7qm5FKQvZDzltzHxvyI",
      "include_colab_link": true
    },
    "kernelspec": {
      "name": "python3",
      "display_name": "Python 3"
    },
    "language_info": {
      "name": "python"
    }
  },
  "cells": [
    {
      "cell_type": "markdown",
      "metadata": {
        "id": "view-in-github",
        "colab_type": "text"
      },
      "source": [
        "<a href=\"https://colab.research.google.com/github/PAVANSUGREEV/Pyhtonnew/blob/Module2/Assignment.ipynb\" target=\"_parent\"><img src=\"https://colab.research.google.com/assets/colab-badge.svg\" alt=\"Open In Colab\"/></a>"
      ]
    },
    {
      "cell_type": "markdown",
      "source": [
        "Assignment on lists"
      ],
      "metadata": {
        "id": "ZF5ulmPq5gFf"
      }
    },
    {
      "cell_type": "code",
      "source": [
        "pavansugreev=[\"Money\",\"Cars\",\"Bikes\",\"Games\",\"Health\",\"Friends\"]\n",
        "\n",
        "v115=[]\n",
        "print(pavansugreev)\n",
        "print(len(pavansugreev))   #To find length of lists\n",
        "print(type(pavansugreev))\n",
        "\n",
        "print(pavansugreev[3])   #print the 4th item of list\n",
        "\n",
        "print(pavansugreev[-2])  #prints 2 item from last\n",
        "\n",
        "print(pavansugreev[2:5]) #prints range of elements\n",
        "\n",
        "print(pavansugreev[-5:-1])#prints from last 5th ithem to last item \n",
        "\n",
        "if \"Bikes\" in pavansugreev:\n",
        "  print(\"Yes, 'Bikes' is in the pavansugreev list\")\n",
        "\n",
        "pavansugreev[1] = \"CARS\"\n",
        "print(pavansugreev)\n",
        "\n",
        "pavansugreev[1:3] = [\"HEALTH\", \"A/c\"]\n",
        "print(pavansugreev)\n",
        "\n",
        "pavansugreev.insert(4,\"ME\")\n",
        "print(pavansugreev)\n",
        "\n",
        "pavansugreev.append(\"95\")\n",
        "print(pavansugreev)\n",
        "\n",
        "pavansugreev.remove(\"A/c\")\n",
        "print(pavansugreev)\n",
        "\n",
        "pavansugreev.pop(6)\n",
        "print(pavansugreev)\n",
        "\n",
        "for x in pavansugreev:\n",
        "  print(x)\n",
        "\n",
        "\n",
        "for x in pavansugreev:\n",
        "  if \"e\" in x:\n",
        "    v115.append(x)\n",
        "print(v115)\n",
        "\n",
        "v115 = [x.upper() for x in pavansugreev]\n",
        "print(v115)\n",
        "\n",
        "\n",
        "v22=v115 + pavansugreev\n",
        "print(v22)"
      ],
      "metadata": {
        "colab": {
          "base_uri": "https://localhost:8080/"
        },
        "id": "H28K3yjZfkKU",
        "outputId": "cc26b792-18f1-4d34-8ef6-1a93e928974d"
      },
      "execution_count": null,
      "outputs": [
        {
          "output_type": "stream",
          "name": "stdout",
          "text": [
            "['Money', 'Cars', 'Bikes', 'Games', 'Health', 'Friends']\n",
            "6\n",
            "<class 'list'>\n",
            "Games\n",
            "Health\n",
            "['Bikes', 'Games', 'Health']\n",
            "['Cars', 'Bikes', 'Games', 'Health']\n",
            "Yes, 'Bikes' is in the pavansugreev list\n",
            "['Money', 'CARS', 'Bikes', 'Games', 'Health', 'Friends']\n",
            "['Money', 'HEALTH', 'A/c', 'Games', 'Health', 'Friends']\n",
            "['Money', 'HEALTH', 'A/c', 'Games', 'ME', 'Health', 'Friends']\n",
            "['Money', 'HEALTH', 'A/c', 'Games', 'ME', 'Health', 'Friends', '95']\n",
            "['Money', 'HEALTH', 'Games', 'ME', 'Health', 'Friends', '95']\n",
            "['Money', 'HEALTH', 'Games', 'ME', 'Health', 'Friends']\n",
            "Money\n",
            "HEALTH\n",
            "Games\n",
            "ME\n",
            "Health\n",
            "Friends\n",
            "['Money', 'Games', 'Health', 'Friends']\n",
            "['MONEY', 'HEALTH', 'GAMES', 'ME', 'HEALTH', 'FRIENDS']\n",
            "['MONEY', 'HEALTH', 'GAMES', 'ME', 'HEALTH', 'FRIENDS', 'Money', 'HEALTH', 'Games', 'ME', 'Health', 'Friends']\n"
          ]
        }
      ]
    }
  ]
}