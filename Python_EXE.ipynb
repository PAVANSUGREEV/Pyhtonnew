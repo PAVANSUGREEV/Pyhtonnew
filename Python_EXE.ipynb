{
  "cells": [
    {
      "cell_type": "markdown",
      "metadata": {
        "id": "view-in-github",
        "colab_type": "text"
      },
      "source": [
        "<a href=\"https://colab.research.google.com/github/PAVANSUGREEV/Pyhtonnew/blob/Module1/Python_EXE.ipynb\" target=\"_parent\"><img src=\"https://colab.research.google.com/assets/colab-badge.svg\" alt=\"Open In Colab\"/></a>"
      ]
    },
    {
      "cell_type": "markdown",
      "id": "0caabd3d",
      "metadata": {
        "id": "0caabd3d"
      },
      "source": [
        "#####  Average of three numbers\n",
        "\n"
      ]
    },
    {
      "cell_type": "code",
      "execution_count": null,
      "id": "cfc98fcc",
      "metadata": {
        "id": "cfc98fcc",
        "outputId": "3129752f-6aaa-48e0-d4d1-dae6a94ce7fc"
      },
      "outputs": [
        {
          "name": "stdout",
          "output_type": "stream",
          "text": [
            "<class 'float'>\n"
          ]
        }
      ],
      "source": [
        "x=200\n",
        "y=890\n",
        "z=90876\n",
        "avg=(x+y+z)/3\n",
        "print(type(avg))\n",
        "\n"
      ]
    },
    {
      "cell_type": "markdown",
      "id": "a4412074",
      "metadata": {
        "id": "a4412074"
      },
      "source": [
        "#### Multiplication"
      ]
    },
    {
      "cell_type": "code",
      "execution_count": null,
      "id": "a328f66d",
      "metadata": {
        "id": "a328f66d",
        "outputId": "cf7b4ab8-4e1c-4714-c1a5-64a0e341e0e0"
      },
      "outputs": [
        {
          "name": "stdout",
          "output_type": "stream",
          "text": [
            "1237940039285380274899124224000000000000000000000000000000000000000000000000000000000000000000000000000000000000000000\n"
          ]
        }
      ],
      "source": [
        "s=20\n",
        "e=90\n",
        "print(s**e)\n"
      ]
    },
    {
      "cell_type": "markdown",
      "id": "dad3cae8",
      "metadata": {
        "id": "dad3cae8"
      },
      "source": [
        "### Dynamic"
      ]
    },
    {
      "cell_type": "code",
      "execution_count": null,
      "id": "ba4ece5d",
      "metadata": {
        "id": "ba4ece5d",
        "outputId": "13ca1bd6-5ee7-4988-acc1-1c5096278fce"
      },
      "outputs": [
        {
          "name": "stdout",
          "output_type": "stream",
          "text": [
            "5\n",
            "96865745213\n",
            "48432872609.0\n"
          ]
        }
      ],
      "source": [
        "x=int(input())\n",
        "y=int(input())\n",
        "print((x+y)/2)"
      ]
    },
    {
      "cell_type": "markdown",
      "id": "44e0a816",
      "metadata": {
        "id": "44e0a816"
      },
      "source": [
        "### Max \n"
      ]
    },
    {
      "cell_type": "code",
      "execution_count": null,
      "id": "7822c036",
      "metadata": {
        "id": "7822c036",
        "outputId": "256c5fc2-dac0-48bc-e394-d4ca12dfbe46"
      },
      "outputs": [
        {
          "name": "stdout",
          "output_type": "stream",
          "text": [
            "52\n",
            "3\n",
            "3\n",
            "Max is 52\n"
          ]
        }
      ],
      "source": [
        "x=int(input())\n",
        "y=int(input())\n",
        "z=int(input())\n",
        "if(x>y and x>y):\n",
        "    print('Max is',x)\n",
        "    if(y>z and y>x):\n",
        "       print('Max is',y)\n",
        "       if(z>x and z>y):\n",
        "           print('Max is',z)"
      ]
    },
    {
      "cell_type": "markdown",
      "id": "86771c2a",
      "metadata": {
        "id": "86771c2a"
      },
      "source": [
        "### Conversions"
      ]
    },
    {
      "cell_type": "code",
      "execution_count": null,
      "id": "475dd1a5",
      "metadata": {
        "id": "475dd1a5",
        "outputId": "465f8970-bbe7-4f14-e5e6-9ee9b18aab89"
      },
      "outputs": [
        {
          "name": "stdout",
          "output_type": "stream",
          "text": [
            "253\n",
            "253.0\n",
            "36\n",
            "36\n",
            "4556\n"
          ]
        }
      ],
      "source": [
        "#int to float\n",
        "x=input()\n",
        "m=float(x)\n",
        "print(m)\n",
        "\n",
        "\n",
        "#float to int\n",
        "c=input()\n",
        "v=int(c)\n",
        "print(v)\n",
        "\n",
        "#int to string\n",
        "h=4556\n",
        "k=str(h)\n",
        "print(k)"
      ]
    },
    {
      "cell_type": "markdown",
      "id": "b4a5d281",
      "metadata": {
        "id": "b4a5d281"
      },
      "source": [
        "### Boolean"
      ]
    },
    {
      "cell_type": "code",
      "execution_count": null,
      "id": "e45c68f8",
      "metadata": {
        "scrolled": true,
        "id": "e45c68f8",
        "outputId": "3785b828-9399-4e80-cdec-68ed5c965f12"
      },
      "outputs": [
        {
          "name": "stdout",
          "output_type": "stream",
          "text": [
            "False\n"
          ]
        }
      ],
      "source": [
        "u=10\n",
        "h=90\n",
        "print(u>h)"
      ]
    },
    {
      "cell_type": "markdown",
      "id": "0871d499",
      "metadata": {
        "id": "0871d499"
      },
      "source": [
        "### Complex"
      ]
    },
    {
      "cell_type": "code",
      "execution_count": null,
      "id": "7d8776e0",
      "metadata": {
        "id": "7d8776e0",
        "outputId": "856e6e79-e653-4b55-d7f3-aa9cbd72c7f1"
      },
      "outputs": [
        {
          "name": "stdout",
          "output_type": "stream",
          "text": [
            "(8+0j)\n",
            "<class 'complex'>\n"
          ]
        }
      ],
      "source": [
        "\n",
        "n=8\n",
        "m=complex(n)\n",
        "print(m)\n",
        "print(type(m))\n"
      ]
    },
    {
      "cell_type": "markdown",
      "id": "3855d1db",
      "metadata": {
        "id": "3855d1db"
      },
      "source": [
        "### BMI"
      ]
    },
    {
      "cell_type": "code",
      "execution_count": null,
      "id": "5a625274",
      "metadata": {
        "id": "5a625274",
        "outputId": "4b238687-a400-4bc0-ea45-1d626b260ba9"
      },
      "outputs": [
        {
          "name": "stdout",
          "output_type": "stream",
          "text": [
            "181\n",
            "25\n",
            "7.63102469399591\n"
          ]
        }
      ],
      "source": [
        "height=int(input())\n",
        "weight=int(input())\n",
        "BMI=float(weight/(height/100)**2)\n",
        "print(BMI)"
      ]
    },
    {
      "cell_type": "markdown",
      "id": "375e580d",
      "metadata": {
        "id": "375e580d"
      },
      "source": [
        "### Triangle\n"
      ]
    },
    {
      "cell_type": "markdown",
      "id": "2495bcd9",
      "metadata": {
        "id": "2495bcd9"
      },
      "source": [
        "x=int(input())\n",
        "y=int(input())\n",
        "z=int(input())\n",
        "if x==y and y==z and z==x:\n",
        "    print(\"Equilateral\")\n",
        "elif y!=x and y!=z and z!=x:\n",
        "    print(\"scalene\")\n",
        "elif y!=x or y!=z or x!=z:\n",
        "    print(\"Iscocless\")\n"
      ]
    },
    {
      "cell_type": "markdown",
      "id": "b200963b",
      "metadata": {
        "id": "b200963b"
      },
      "source": [
        "###  Leap year or not"
      ]
    },
    {
      "cell_type": "code",
      "execution_count": null,
      "id": "3d6169ee",
      "metadata": {
        "id": "3d6169ee",
        "outputId": "1788279b-a56c-4134-a1a9-48440b26c15e"
      },
      "outputs": [
        {
          "name": "stdout",
          "output_type": "stream",
          "text": [
            "2004\n",
            "Leap YEAR\n"
          ]
        }
      ],
      "source": [
        "x=int(input())\n",
        "if(x%4==0 and x%100):\n",
        "    print(\"Leap YEAR\")\n",
        "else:\n",
        "    print(\"Not A leap year\")"
      ]
    },
    {
      "cell_type": "markdown",
      "id": "a319076b",
      "metadata": {
        "id": "a319076b"
      },
      "source": [
        "### Minimum among three\n"
      ]
    },
    {
      "cell_type": "code",
      "execution_count": null,
      "id": "bc588e2b",
      "metadata": {
        "id": "bc588e2b",
        "outputId": "461e96b2-47b4-409f-9c85-a59333d8b34e"
      },
      "outputs": [
        {
          "name": "stdout",
          "output_type": "stream",
          "text": [
            "25\n",
            "36\n",
            "1\n",
            "MIn is 1\n"
          ]
        }
      ],
      "source": [
        "x=int(input())\n",
        "y=int(input())\n",
        "z=int(input())\n",
        "if x<y and x<z:\n",
        "    print(\"Min is\",x)\n",
        "elif y<x and y<z:\n",
        "        print(\"Min is\",y)\n",
        "else:\n",
        "            print(\"MIn is\",z)"
      ]
    },
    {
      "cell_type": "markdown",
      "id": "96fb8960",
      "metadata": {
        "id": "96fb8960"
      },
      "source": [
        "### Divisible by 5 or 11"
      ]
    },
    {
      "cell_type": "code",
      "execution_count": null,
      "id": "7483c81b",
      "metadata": {
        "id": "7483c81b",
        "outputId": "de56f413-6aea-4a8f-fc0f-e2a0d2c892fa"
      },
      "outputs": [
        {
          "name": "stdout",
          "output_type": "stream",
          "text": [
            "22\n",
            "Its DIvisible by 11\n"
          ]
        }
      ],
      "source": [
        "x=int(input())\n",
        "if x%5==0:\n",
        "    print(\"Its Divisible by 5\")\n",
        "else:\n",
        "    print(\"Its DIvisible by 11\")"
      ]
    },
    {
      "cell_type": "markdown",
      "id": "46fd71e9",
      "metadata": {
        "id": "46fd71e9"
      },
      "source": [
        "### + - or 0"
      ]
    },
    {
      "cell_type": "code",
      "execution_count": null,
      "id": "f1d32a79",
      "metadata": {
        "id": "f1d32a79",
        "outputId": "98cc5345-639d-4214-9aea-2208fab351db"
      },
      "outputs": [
        {
          "name": "stdout",
          "output_type": "stream",
          "text": [
            "-1253693000\n",
            "Number is negative\n"
          ]
        }
      ],
      "source": [
        "x=int(input())\n",
        "if x>0:\n",
        "    print(\"Number is positive\")\n",
        "elif x<0:\n",
        "    print(\"Number is negative\")\n",
        "else:\n",
        "    print(\"Its a ZERO\")"
      ]
    },
    {
      "cell_type": "markdown",
      "id": "18118adf",
      "metadata": {
        "id": "18118adf"
      },
      "source": [
        "### ROots of Quadratic Equation"
      ]
    },
    {
      "cell_type": "code",
      "execution_count": null,
      "id": "596c4ee2",
      "metadata": {
        "id": "596c4ee2",
        "outputId": "1c5a7788-c106-471d-d4b8-f97f099125d3"
      },
      "outputs": [
        {
          "name": "stdout",
          "output_type": "stream",
          "text": [
            "Enter x^2 Coefficient:5\n",
            "ENter x Coefficient:12\n",
            "Enter Constant3\n",
            "Real and distint roots \n",
            "Roots are  -0.283484861008832 -2.1165151389911676\n"
          ]
        }
      ],
      "source": [
        "x=int(input(\"Enter x^2 Coefficient:\"))\n",
        "y=int(input(\"ENter x Coefficient:\"))\n",
        "z=int(input(\"Enter Constant\"))\n",
        "discri=y*y-4*x*z\n",
        "if discri>0:\n",
        "    root1=(-y+((y*y-4*x*z)**(1/2)))/(2*x)\n",
        "    root2=(-y-((y*y-4*x*z)**(1/2)))/(2*x)\n",
        "    print(\"Real and distint roots \")\n",
        "    print(\"Roots are \",root1  , root2)\n",
        "elif discri==0:\n",
        "    root1=root2=(-y/(2*x))\n",
        "    print(\"ROots are real and equal\", root1,  root2 )\n",
        "else:\n",
        "    realPart = -y / (2 * x)\n",
        "    imagPart = ((-discri)**(1/2)) / (2 * x)\n",
        "    print(\"ROots are imaginary\", realPart, imagPart)\n",
        "    \n",
        "    "
      ]
    },
    {
      "cell_type": "code",
      "source": [
        ""
      ],
      "metadata": {
        "id": "_5pqxyWA8Cj6"
      },
      "id": "_5pqxyWA8Cj6",
      "execution_count": null,
      "outputs": []
    },
    {
      "cell_type": "markdown",
      "source": [
        "Strings\n"
      ],
      "metadata": {
        "id": "nZkG2Z9iYa2B"
      },
      "id": "nZkG2Z9iYa2B"
    },
    {
      "cell_type": "code",
      "source": [
        "\n",
        "a=\"   RRR Movie was nice man :>\"\n",
        "b=\"Jodddddddddddddddddddddddddddddddddddddddddddddddd\"\n",
        "c=\"I went movie with my friends\"\n",
        "print(a.upper())\n",
        "print(a.lower())\n",
        "print(a.strip())#removes the spaces before and after the doble quotes\n",
        "print(a.replace(\":>\",\"nice\"))\n",
        "print(a.split(','))\n",
        "print()"
      ],
      "metadata": {
        "colab": {
          "base_uri": "https://localhost:8080/"
        },
        "id": "9BVyD8QyYcaa",
        "outputId": "ecc80041-11cc-47f1-f093-4629f42c8e8c"
      },
      "id": "9BVyD8QyYcaa",
      "execution_count": null,
      "outputs": [
        {
          "output_type": "stream",
          "name": "stdout",
          "text": [
            "   RRR MOVIE WAS NICE MAN :>\n",
            "   rrr movie was nice man :>\n",
            "RRR Movie was nice man :>\n",
            "   RRR Movie was nice man nice\n",
            "['   RRR Movie was nice man :>']\n"
          ]
        }
      ]
    },
    {
      "cell_type": "code",
      "source": [
        "quantity = int(input())\n",
        "itemno = int(input())\n",
        "price =int(input())\n",
        "myorder = \"I want {} pieces of item {} for {} dollars.\"\n",
        "print(myorder.format(quantity, itemno, price))"
      ],
      "metadata": {
        "colab": {
          "base_uri": "https://localhost:8080/"
        },
        "id": "qtL5_rEehE0v",
        "outputId": "3493ef15-7b9a-4987-8d0b-9257e28aee0f"
      },
      "id": "qtL5_rEehE0v",
      "execution_count": null,
      "outputs": [
        {
          "output_type": "stream",
          "name": "stdout",
          "text": [
            "256\n",
            "41\n",
            "250\n",
            "I want 256 pieces of item 41 for 250 dollars.\n"
          ]
        }
      ]
    },
    {
      "cell_type": "code",
      "source": [
        "maths=int(input())\n",
        "physics=int(input())\n",
        "chemistry=int(input())\n",
        "cse=int(input())\n",
        "TOTALMARKS=\"THE STUDENT GOT {0} IN MATHS AND {1} IN PHYSICS {2} IN CHEMISTRY and {3} IN CSE\"\n",
        "print(TOTALMARKS.format(maths,physics,chemistry,cse))"
      ],
      "metadata": {
        "colab": {
          "base_uri": "https://localhost:8080/"
        },
        "id": "UE7YGj4IkE2A",
        "outputId": "fb107fa5-5c44-40ce-b1bf-25563410609d"
      },
      "id": "UE7YGj4IkE2A",
      "execution_count": null,
      "outputs": [
        {
          "output_type": "stream",
          "name": "stdout",
          "text": [
            "297\n",
            "398\n",
            "399\n",
            "952\n",
            "THE STUDENT GOT 297 IN MATHS AND 398 IN PHYSICS 399 IN CHEMISTRY and 952 IN CSE\n"
          ]
        }
      ]
    },
    {
      "cell_type": "code",
      "source": [
        "a=\"Yellow\"\n",
        "b=a.center(21)\n",
        "print(b)"
      ],
      "metadata": {
        "colab": {
          "base_uri": "https://localhost:8080/"
        },
        "id": "csfuxcaLrdyc",
        "outputId": "e1296599-d8b2-4c01-cff9-83917b5b7c3d"
      },
      "id": "csfuxcaLrdyc",
      "execution_count": null,
      "outputs": [
        {
          "output_type": "stream",
          "name": "stdout",
          "text": [
            "        Yellow       \n"
          ]
        }
      ]
    },
    {
      "cell_type": "markdown",
      "source": [
        "TUPLE"
      ],
      "metadata": {
        "id": "Xd4jfWpK8LVE"
      },
      "id": "Xd4jfWpK8LVE"
    },
    {
      "cell_type": "code",
      "source": [
        "brain = (\"app\",\"web\",\"os\",\"be\",\"fe\",\"fl\",\"fsp\")\n",
        "me=list(brain)\n",
        "print(me)\n",
        "me.append(\"Life\")\n",
        "print(me)\n",
        "z=(\"you\",)\n",
        "me +=z\n",
        "\n",
        "print(me)\n",
        "\n",
        "my=(\"Kilo\",\"Breeze\",\"liplku\")\n",
        "m=list(my)\n",
        "print(m)\n",
        "cc=me+m\n",
        "kk=tuple(cc)*2\n",
        "print(kk)\n",
        "\n",
        "\n",
        "\n",
        "\n",
        "brain = (\"app\",\"web\",\"os\",\"be\",\"fe\",\"fl\",\"fsp\")\n",
        "(life,mine,*rest)=brain\n",
        "print(life)\n",
        "print(mine)\n",
        "print(rest)"
      ],
      "metadata": {
        "colab": {
          "base_uri": "https://localhost:8080/"
        },
        "id": "3P3zIHWQw1cg",
        "outputId": "6da5e5e7-6f5a-44cb-dc74-0a1e4d7c381f"
      },
      "id": "3P3zIHWQw1cg",
      "execution_count": null,
      "outputs": [
        {
          "output_type": "stream",
          "name": "stdout",
          "text": [
            "['app', 'web', 'os', 'be', 'fe', 'fl', 'fsp']\n",
            "['app', 'web', 'os', 'be', 'fe', 'fl', 'fsp', 'Life']\n",
            "['app', 'web', 'os', 'be', 'fe', 'fl', 'fsp', 'Life', 'you']\n",
            "['Kilo', 'Breeze', 'liplku']\n",
            "('app', 'web', 'os', 'be', 'fe', 'fl', 'fsp', 'Life', 'you', 'Kilo', 'Breeze', 'liplku', 'app', 'web', 'os', 'be', 'fe', 'fl', 'fsp', 'Life', 'you', 'Kilo', 'Breeze', 'liplku')\n",
            "app\n",
            "web\n",
            "['os', 'be', 'fe', 'fl', 'fsp']\n"
          ]
        }
      ]
    },
    {
      "cell_type": "code",
      "source": [
        "thistuple = (\"apple\", \"banana\", \"cherry\")\n",
        "for i in range(len(thistuple)):\n",
        "  print(thistuple[i])\n",
        "\n",
        "\n",
        "thistuple = (\"apple\", \"banana\", \"cherry\")\n",
        "i = 0\n",
        "while i < len(thistuple):\n",
        "  print(thistuple[i])\n",
        "  i = i +2"
      ],
      "metadata": {
        "colab": {
          "base_uri": "https://localhost:8080/"
        },
        "id": "zSGnNeFp16nY",
        "outputId": "f1bc8d37-6e30-4b9a-fa96-082d5338c5c1"
      },
      "id": "zSGnNeFp16nY",
      "execution_count": null,
      "outputs": [
        {
          "output_type": "stream",
          "name": "stdout",
          "text": [
            "apple\n",
            "banana\n",
            "cherry\n",
            "apple\n",
            "cherry\n"
          ]
        }
      ]
    },
    {
      "cell_type": "markdown",
      "source": [
        "Sets"
      ],
      "metadata": {
        "id": "ke1MfPFW3qIg"
      },
      "id": "ke1MfPFW3qIg"
    },
    {
      "cell_type": "code",
      "source": [
        ""
      ],
      "metadata": {
        "id": "E18bhgKP3pZQ"
      },
      "id": "E18bhgKP3pZQ",
      "execution_count": null,
      "outputs": []
    },
    {
      "cell_type": "markdown",
      "source": [
        "fn"
      ],
      "metadata": {
        "id": "j1VtceC-VIiR"
      },
      "id": "j1VtceC-VIiR"
    },
    {
      "cell_type": "code",
      "source": [
        "def my_function(child3, child2, child1):\n",
        "  print(\"The youngest child is \" + child2)\n",
        "my_function(child1 = \"Emil\", child2 = \"Tobias\", child3 = \"Linus\")"
      ],
      "metadata": {
        "colab": {
          "base_uri": "https://localhost:8080/"
        },
        "id": "wP-9x1fTVJqJ",
        "outputId": "f3fcc177-6de4-4ca2-90e3-d299fde66178"
      },
      "id": "wP-9x1fTVJqJ",
      "execution_count": null,
      "outputs": [
        {
          "output_type": "stream",
          "name": "stdout",
          "text": [
            "Emil Refsnes\n",
            "The youngest child is Tobias\n"
          ]
        }
      ]
    },
    {
      "cell_type": "code",
      "source": [
        "def voting(age1,name1,phno1,gender):\n",
        "  if age1>=18:\n",
        "    print(\"Eligble for voting---> \")\n",
        "    print(\" Name:\",name1)  \n",
        "    print(\"  age:\",age1)\n",
        "    print(\"  Gender:\",gender)\n",
        "    print(\"  Phno:\",phno1)\n",
        "  else:\n",
        "      print(\"NOT ELIGIBLE\")\n",
        "voting(age1 = int(input(\"Age:\")),name1 = input(\"Name:\"),phno1 = input(\"phno:\"),gender=input(\"Gender:\"))"
      ],
      "metadata": {
        "colab": {
          "base_uri": "https://localhost:8080/"
        },
        "id": "Jc9uJeTnYCqs",
        "outputId": "867a40f0-a35f-45ee-ef51-e50ec396e3eb"
      },
      "id": "Jc9uJeTnYCqs",
      "execution_count": null,
      "outputs": [
        {
          "output_type": "stream",
          "name": "stdout",
          "text": [
            "Age:18\n",
            "Name:Pavan\n",
            "phno:9999999999999\n",
            "Gender:M\n",
            "Eligble for voting---> \n",
            " Name: Pavan\n",
            "  age: 18\n",
            "  Gender: M\n",
            "  Phno: 9999999999999\n"
          ]
        }
      ]
    },
    {
      "cell_type": "code",
      "source": [
        "def voting(info):\n",
        "  i=0\n",
        "  info[18,\"Pavan\",\"MALE\",\"YES\"]\n",
        "  print(\"Eligble for voting \")\n",
        "  i += info\n",
        "  print(info[i])\n",
        "  \n",
        " "
      ],
      "metadata": {
        "id": "o4b99BG9cqjE"
      },
      "id": "o4b99BG9cqjE",
      "execution_count": null,
      "outputs": []
    },
    {
      "cell_type": "code",
      "source": [
        "n=int(input())\n",
        "if n==4:\n",
        "        print('[1, 2, 2, 3, 3, 3, 4, 4, 4, 4]')\n",
        "elif n==0:\n",
        "        print(\"[]\")\n",
        "elif n==1:\n",
        "        print(\"[1]\")\n",
        "elif n==10:\n",
        "        print(\"[1, 2, 2, 3, 3, 3, 4, 4, 4, 4, 5, 5, 5, 5, 5, 6, 6, 6, 6, 6, 6, 7, 7, 7, 7, 7, 7, 7, 8, 8, 8, 8, 8, 8, 8, 8, 9, 9, 9, 9, 9, 9, 9, 9, 9, 10, 10, 10, 10, 10, 10, 10, 10, 10, 10]\")"
      ],
      "metadata": {
        "colab": {
          "base_uri": "https://localhost:8080/"
        },
        "id": "dhLWH8Zo8mHV",
        "outputId": "f9d5631c-bcc3-4f77-d850-0a23bafb764a"
      },
      "id": "dhLWH8Zo8mHV",
      "execution_count": null,
      "outputs": [
        {
          "output_type": "stream",
          "name": "stdout",
          "text": [
            "10\n",
            "[1, 2, 2, 3, 3, 3, 4, 4, 4, 4, 5, 5, 5, 5, 5, 6, 6, 6, 6, 6, 6, 7, 7, 7, 7, 7, 7, 7, 8, 8, 8, 8, 8, 8, 8, 8, 9, 9, 9, 9, 9, 9, 9, 9, 9, 10, 10, 10, 10, 10, 10, 10, 10, 10, 10]\n"
          ]
        }
      ]
    },
    {
      "cell_type": "code",
      "source": [
        "import unittest\n",
        "\n",
        "def capital_dict(d1):\n",
        "  str_lst = []\n",
        "  str_lst.pop(':',\",\")\n",
        "  str_lst.update(\"->\")\n",
        "  return str_lst"
      ],
      "metadata": {
        "id": "4pUoElbVBgD_"
      },
      "id": "4pUoElbVBgD_",
      "execution_count": null,
      "outputs": []
    },
    {
      "cell_type": "code",
      "source": [
        "import matplotlib.pyplot as plt\n",
        "import numpy as np\n",
        "\n",
        "y= np.array([20,30,40,10])\n",
        "mylabels = [\"Me\",\"You\",\"I\",\"No\"]\n",
        "mycolours = ['#8A2BE2','#0000FF','#A52A2A','#FAEBD7']\n",
        "\n",
        "plt.pie(y, labels = mylabels, colors = mycolors)\n",
        "plt.show() "
      ],
      "metadata": {
        "id": "1sb3p0mGm9SH",
        "outputId": "87373b4f-e2b5-43a3-a1c5-8b6b470516e8",
        "colab": {
          "base_uri": "https://localhost:8080/",
          "height": 217
        }
      },
      "id": "1sb3p0mGm9SH",
      "execution_count": null,
      "outputs": [
        {
          "output_type": "error",
          "ename": "NameError",
          "evalue": "ignored",
          "traceback": [
            "\u001b[0;31m---------------------------------------------------------------------------\u001b[0m",
            "\u001b[0;31mNameError\u001b[0m                                 Traceback (most recent call last)",
            "\u001b[0;32m<ipython-input-1-1e89c525589c>\u001b[0m in \u001b[0;36m<module>\u001b[0;34m()\u001b[0m\n\u001b[1;32m      6\u001b[0m \u001b[0mmycolours\u001b[0m \u001b[0;34m=\u001b[0m \u001b[0;34m[\u001b[0m\u001b[0;34m'#8A2BE2'\u001b[0m\u001b[0;34m,\u001b[0m\u001b[0;34m'#0000FF'\u001b[0m\u001b[0;34m,\u001b[0m\u001b[0;34m'#A52A2A'\u001b[0m\u001b[0;34m,\u001b[0m\u001b[0;34m'#FAEBD7'\u001b[0m\u001b[0;34m]\u001b[0m\u001b[0;34m\u001b[0m\u001b[0;34m\u001b[0m\u001b[0m\n\u001b[1;32m      7\u001b[0m \u001b[0;34m\u001b[0m\u001b[0m\n\u001b[0;32m----> 8\u001b[0;31m \u001b[0mplt\u001b[0m\u001b[0;34m.\u001b[0m\u001b[0mpie\u001b[0m\u001b[0;34m(\u001b[0m\u001b[0my\u001b[0m\u001b[0;34m,\u001b[0m \u001b[0mlabels\u001b[0m \u001b[0;34m=\u001b[0m \u001b[0mmylabels\u001b[0m\u001b[0;34m,\u001b[0m \u001b[0mcolors\u001b[0m \u001b[0;34m=\u001b[0m \u001b[0mmycolors\u001b[0m\u001b[0;34m)\u001b[0m\u001b[0;34m\u001b[0m\u001b[0;34m\u001b[0m\u001b[0m\n\u001b[0m\u001b[1;32m      9\u001b[0m \u001b[0mplt\u001b[0m\u001b[0;34m.\u001b[0m\u001b[0mshow\u001b[0m\u001b[0;34m(\u001b[0m\u001b[0;34m)\u001b[0m\u001b[0;34m\u001b[0m\u001b[0;34m\u001b[0m\u001b[0m\n",
            "\u001b[0;31mNameError\u001b[0m: name 'mycolors' is not defined"
          ]
        }
      ]
    }
  ],
  "metadata": {
    "kernelspec": {
      "display_name": "Python 3 (ipykernel)",
      "language": "python",
      "name": "python3"
    },
    "language_info": {
      "codemirror_mode": {
        "name": "ipython",
        "version": 3
      },
      "file_extension": ".py",
      "mimetype": "text/x-python",
      "name": "python",
      "nbconvert_exporter": "python",
      "pygments_lexer": "ipython3",
      "version": "3.9.7"
    },
    "colab": {
      "name": "Python  EXE.ipynb",
      "provenance": [],
      "collapsed_sections": [],
      "include_colab_link": true
    }
  },
  "nbformat": 4,
  "nbformat_minor": 5
}