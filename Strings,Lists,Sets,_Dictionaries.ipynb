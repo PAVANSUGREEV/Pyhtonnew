{
  "nbformat": 4,
  "nbformat_minor": 0,
  "metadata": {
    "colab": {
      "name": "Strings,Lists,Sets, Dictionaries.ipynb",
      "provenance": [],
      "collapsed_sections": [],
      "authorship_tag": "ABX9TyNO0/FB2GtCRJyOBO5IcALh",
      "include_colab_link": true
    },
    "kernelspec": {
      "name": "python3",
      "display_name": "Python 3"
    },
    "language_info": {
      "name": "python"
    }
  },
  "cells": [
    {
      "cell_type": "markdown",
      "metadata": {
        "id": "view-in-github",
        "colab_type": "text"
      },
      "source": [
        "<a href=\"https://colab.research.google.com/github/PAVANSUGREEV/Pyhtonnew/blob/Module2/Strings%2CLists%2CSets%2C_Dictionaries.ipynb\" target=\"_parent\"><img src=\"https://colab.research.google.com/assets/colab-badge.svg\" alt=\"Open In Colab\"/></a>"
      ]
    },
    {
      "cell_type": "markdown",
      "source": [
        "Strings\n"
      ],
      "metadata": {
        "id": "MmgJsSvG3WSN"
      }
    },
    {
      "cell_type": "code",
      "execution_count": null,
      "metadata": {
        "colab": {
          "base_uri": "https://localhost:8080/"
        },
        "id": "KliPXjAE3Ozt",
        "outputId": "93aea9e8-571d-4252-8029-399d325c547a"
      },
      "outputs": [
        {
          "output_type": "stream",
          "name": "stdout",
          "text": [
            "   RRR MOVIE WAS NICE MAN :>\n",
            "   rrr movie was nice man :>\n",
            "RRR Movie was nice man :>\n",
            "   RRR Movie was nice man nice\n",
            "['   RRR Movie was nice man :>']\n",
            "   RRR Movie was nice man :>JoddddddddddddddddddddddddddddddddddddddddddddddddI went movie with my friends\n",
            "1500\n",
            "30\n",
            "25\n",
            "I want 1500 pieces of item 30 for 25 dollars.\n"
          ]
        }
      ],
      "source": [
        "a=\"   RRR Movie was nice man :>\"\n",
        "b=\"Jodddddddddddddddddddddddddddddddddddddddddddddddd\"\n",
        "c=\"I went movie with my friends\"\n",
        "print(a.upper())\n",
        "print(a.lower())\n",
        "print(a.strip())#removes the spaces before and after the doble quotes\n",
        "print(a.replace(\":>\",\"nice\"))\n",
        "print(a.split(','))\n",
        "print(a+b+c)   #Concatenation\n",
        "\n",
        "\n",
        "\n",
        "#Format\n",
        "quantity = int(input())\n",
        "itemno = int(input())\n",
        "price =int(input())\n",
        "myorder = \"I want {} pieces of item {} for {} dollars.\"\n",
        "print(myorder.format(quantity, itemno, price))"
      ]
    },
    {
      "cell_type": "code",
      "source": [
        "maths=int(input())\n",
        "physics=int(input())\n",
        "chemistry=int(input())\n",
        "cse=int(input())\n",
        "TOTALMARKS=\"THE STUDENT GOT {0} IN MATHS AND {1} IN PHYSICS {2} IN CHEMISTRY and {3} IN CSE\"\n",
        "print(TOTALMARKS.format(maths,physics,chemistry,cse))"
      ],
      "metadata": {
        "colab": {
          "base_uri": "https://localhost:8080/"
        },
        "id": "BwUEpUeb5Lci",
        "outputId": "21461def-9ede-4035-93db-fd0ed4aa829c"
      },
      "execution_count": null,
      "outputs": [
        {
          "output_type": "stream",
          "name": "stdout",
          "text": [
            "20\n",
            "30\n",
            "25\n",
            "50\n",
            "THE STUDENT GOT 20 IN MATHS AND 30 IN PHYSICS 25 IN CHEMISTRY and 50 IN CSE\n"
          ]
        }
      ]
    },
    {
      "cell_type": "code",
      "source": [
        "b = \"PAVAN SUGREEV\"\n",
        "print(b[2:5])\n",
        "print(b[:5])\n",
        "print(b[2:])\n",
        "print(b[-5:-2])"
      ],
      "metadata": {
        "colab": {
          "base_uri": "https://localhost:8080/"
        },
        "id": "nohNAGev3yqn",
        "outputId": "7c888406-e18e-46fe-9b57-ff821289118e"
      },
      "execution_count": null,
      "outputs": [
        {
          "output_type": "stream",
          "name": "stdout",
          "text": [
            "VAN\n",
            "PAVAN\n",
            "VAN SUGREEV\n",
            "GRE\n"
          ]
        }
      ]
    },
    {
      "cell_type": "markdown",
      "source": [
        "Lists"
      ],
      "metadata": {
        "id": "zczXKFGl5GHJ"
      }
    },
    {
      "cell_type": "code",
      "source": [
        "fruits =[\"apple\",\"orange\",\"banana\",\"lemon\"]\n",
        "print(fruits[0])\n",
        "print(fruits[1])\n",
        "print(fruits[2])\n",
        "print(fruits[3]) \n",
        "\n",
        "print(len(fruits[2]))\n",
        "\n",
        "print(fruits[1:2])"
      ],
      "metadata": {
        "colab": {
          "base_uri": "https://localhost:8080/"
        },
        "id": "EsmYtjqw5G6y",
        "outputId": "7d3ee620-1fef-4ac6-87da-b4a5d00d65d8"
      },
      "execution_count": null,
      "outputs": [
        {
          "output_type": "stream",
          "name": "stdout",
          "text": [
            "apple\n",
            "orange\n",
            "banana\n",
            "lemon\n",
            "6\n",
            "['orange']\n"
          ]
        }
      ]
    },
    {
      "cell_type": "code",
      "source": [
        "fruits =[\"apple\",\"orange\",\"banana\",\"lemon\"]\n",
        "fruits.append(\"gava\")\n",
        "fruits.append(\"strawberry\")\n",
        "fruits.append(\"mintmasala\")\n",
        "print(fruits)\n",
        "fruits.insert(3,\"mamulao\")\n",
        "print(fruits.count(\"apple\"))\n",
        "print(fruits)\n",
        "fruits.remove(\"orange\")\n",
        "print(fruits)\n",
        "fruits.reverse()\n",
        "print(fruits)\n",
        "fruits.sort()\n",
        "print(fruits)\n",
        "fruits.extend(\"StrawBerry\")\n",
        "print(fruits)"
      ],
      "metadata": {
        "colab": {
          "base_uri": "https://localhost:8080/"
        },
        "id": "8iVd1rl55kCX",
        "outputId": "6bd46c5c-572b-402f-bb3f-50bf19b7754b"
      },
      "execution_count": null,
      "outputs": [
        {
          "output_type": "stream",
          "name": "stdout",
          "text": [
            "['apple', 'orange', 'banana', 'lemon', 'gava', 'strawberry', 'mintmasala']\n",
            "1\n",
            "['apple', 'orange', 'banana', 'mamulao', 'lemon', 'gava', 'strawberry', 'mintmasala']\n",
            "['apple', 'banana', 'mamulao', 'lemon', 'gava', 'strawberry', 'mintmasala']\n",
            "['mintmasala', 'strawberry', 'gava', 'lemon', 'mamulao', 'banana', 'apple']\n",
            "['apple', 'banana', 'gava', 'lemon', 'mamulao', 'mintmasala', 'strawberry']\n",
            "['apple', 'banana', 'gava', 'lemon', 'mamulao', 'mintmasala', 'strawberry', 'S', 't', 'r', 'a', 'w', 'B', 'e', 'r', 'r', 'y']\n"
          ]
        }
      ]
    },
    {
      "cell_type": "code",
      "source": [
        "file=[]\n",
        "file.append(\"PAVAN\")\n",
        "file.append(\"17\")\n",
        "file.append(\"MALE\")\n",
        "file.append(\"ADDRESSS\")\n",
        "file.append(\"RESIDENT OF INDIA\")\n",
        "\n",
        "\n",
        "\n",
        "print(file)\n",
        "file.remove(\"MALE\")\n",
        "print(file)\n",
        "file.pop(1)\n",
        "file.pop(2)\n",
        "print(file)\n",
        "print(type(file))\n",
        "file.clear()\n",
        "print(file)"
      ],
      "metadata": {
        "colab": {
          "base_uri": "https://localhost:8080/"
        },
        "id": "Y_nzL5Sh5qrC",
        "outputId": "8bc84c71-00e2-4cb2-d834-3ef3d418269a"
      },
      "execution_count": null,
      "outputs": [
        {
          "output_type": "stream",
          "name": "stdout",
          "text": [
            "['PAVAN', '17', 'MALE', 'ADDRESSS', 'RESIDENT OF INDIA']\n",
            "['PAVAN', '17', 'ADDRESSS', 'RESIDENT OF INDIA']\n",
            "['PAVAN', 'ADDRESSS']\n",
            "<class 'list'>\n",
            "[]\n"
          ]
        }
      ]
    },
    {
      "cell_type": "code",
      "source": [
        "list1 = [\"Lambo\",\"METOOto\",\"myself\"]\n",
        "list2 = [\"alpha\",\"beta\",\"ghamma\"]\n",
        "\n",
        "for x in list2:\n",
        "  list1.append(x)\n",
        "\n",
        "print(list1)"
      ],
      "metadata": {
        "colab": {
          "base_uri": "https://localhost:8080/"
        },
        "id": "6hY-saU95zTr",
        "outputId": "186a8415-9306-46e3-8603-b821a111b816"
      },
      "execution_count": null,
      "outputs": [
        {
          "output_type": "stream",
          "name": "stdout",
          "text": [
            "['Lambo', 'METOOto', 'myself', 'alpha', 'beta', 'ghamma']\n"
          ]
        }
      ]
    },
    {
      "cell_type": "code",
      "source": [
        "pavansugreev=[\"Money\",\"Cars\",\"Bikes\",\"Games\",\"Health\",\"Friends\"]\n",
        "\n",
        "v115=[]\n",
        "print(pavansugreev)\n",
        "print(len(pavansugreev))   #To find length of lists\n",
        "print(type(pavansugreev))\n",
        "\n",
        "print(pavansugreev[3])   #print the 4th item of list\n",
        "\n",
        "print(pavansugreev[-2])  #prints 2 item from last\n",
        "\n",
        "print(pavansugreev[2:5]) #prints range of elements\n",
        "\n",
        "print(pavansugreev[-5:-1])#prints from last 5th ithem to last item \n",
        "\n",
        "if \"Bikes\" in pavansugreev:\n",
        "  print(\"Yes, 'Bikes' is in the pavansugreev list\")\n",
        "\n",
        "pavansugreev[1] = \"CARS\"\n",
        "print(pavansugreev)\n",
        "\n",
        "pavansugreev[1:3] = [\"HEALTH\", \"A/c\"]\n",
        "print(pavansugreev)\n",
        "\n",
        "pavansugreev.insert(4,\"ME\")\n",
        "print(pavansugreev)\n",
        "\n",
        "pavansugreev.append(\"95\")\n",
        "print(pavansugreev)\n",
        "\n",
        "pavansugreev.remove(\"A/c\")\n",
        "print(pavansugreev)\n",
        "\n",
        "pavansugreev.pop(6)\n",
        "print(pavansugreev)\n",
        "\n",
        "for x in pavansugreev:\n",
        "  print(x)\n",
        "\n",
        "\n",
        "for x in pavansugreev:\n",
        "  if \"e\" in x:\n",
        "    v115.append(x)\n",
        "print(v115)\n",
        "\n",
        "v115 = [x.upper() for x in pavansugreev]\n",
        "print(v115)\n",
        "\n",
        "\n",
        "v22=v115 + pavansugreev\n",
        "print(v22)"
      ],
      "metadata": {
        "colab": {
          "base_uri": "https://localhost:8080/"
        },
        "id": "nB9A-2nu6VIZ",
        "outputId": "d83526ca-e600-4888-a04d-0eb088913939"
      },
      "execution_count": null,
      "outputs": [
        {
          "output_type": "stream",
          "name": "stdout",
          "text": [
            "['Money', 'Cars', 'Bikes', 'Games', 'Health', 'Friends']\n",
            "6\n",
            "<class 'list'>\n",
            "Games\n",
            "Health\n",
            "['Bikes', 'Games', 'Health']\n",
            "['Cars', 'Bikes', 'Games', 'Health']\n",
            "Yes, 'Bikes' is in the pavansugreev list\n",
            "['Money', 'CARS', 'Bikes', 'Games', 'Health', 'Friends']\n",
            "['Money', 'HEALTH', 'A/c', 'Games', 'Health', 'Friends']\n",
            "['Money', 'HEALTH', 'A/c', 'Games', 'ME', 'Health', 'Friends']\n",
            "['Money', 'HEALTH', 'A/c', 'Games', 'ME', 'Health', 'Friends', '95']\n",
            "['Money', 'HEALTH', 'Games', 'ME', 'Health', 'Friends', '95']\n",
            "['Money', 'HEALTH', 'Games', 'ME', 'Health', 'Friends']\n",
            "Money\n",
            "HEALTH\n",
            "Games\n",
            "ME\n",
            "Health\n",
            "Friends\n",
            "['Money', 'Games', 'Health', 'Friends']\n",
            "['MONEY', 'HEALTH', 'GAMES', 'ME', 'HEALTH', 'FRIENDS']\n",
            "['MONEY', 'HEALTH', 'GAMES', 'ME', 'HEALTH', 'FRIENDS', 'Money', 'HEALTH', 'Games', 'ME', 'Health', 'Friends']\n"
          ]
        }
      ]
    },
    {
      "cell_type": "markdown",
      "source": [
        "Tuples"
      ],
      "metadata": {
        "id": "v6MTvRin6feF"
      }
    },
    {
      "cell_type": "code",
      "source": [
        "brain = (\"app\",\"web\",\"os\",\"be\",\"fe\",\"fl\",\"fsp\")\n",
        "me=list(brain)\n",
        "print(me)\n",
        "me.append(\"Life\")\n",
        "print(me)\n",
        "z=(\"you\",)\n",
        "me +=z\n",
        "\n",
        "print(me)\n",
        "\n",
        "my=(\"Kilo\",\"Breeze\",\"liplku\")\n",
        "m=list(my)\n",
        "print(m)\n",
        "cc=me+m\n",
        "kk=tuple(cc)*2\n",
        "print(kk)\n",
        "\n",
        "\n",
        "\n",
        "\n",
        "brain = (\"app\",\"web\",\"os\",\"be\",\"fe\",\"fl\",\"fsp\")\n",
        "(life,mine,*rest)=brain\n",
        "print(life)\n",
        "print(mine)\n",
        "print(rest)"
      ],
      "metadata": {
        "colab": {
          "base_uri": "https://localhost:8080/"
        },
        "id": "riC-od016gZU",
        "outputId": "958ee243-f275-498f-fac6-1785d6a3644a"
      },
      "execution_count": null,
      "outputs": [
        {
          "output_type": "stream",
          "name": "stdout",
          "text": [
            "['app', 'web', 'os', 'be', 'fe', 'fl', 'fsp']\n",
            "['app', 'web', 'os', 'be', 'fe', 'fl', 'fsp', 'Life']\n",
            "['app', 'web', 'os', 'be', 'fe', 'fl', 'fsp', 'Life', 'you']\n",
            "['Kilo', 'Breeze', 'liplku']\n",
            "('app', 'web', 'os', 'be', 'fe', 'fl', 'fsp', 'Life', 'you', 'Kilo', 'Breeze', 'liplku', 'app', 'web', 'os', 'be', 'fe', 'fl', 'fsp', 'Life', 'you', 'Kilo', 'Breeze', 'liplku')\n",
            "app\n",
            "web\n",
            "['os', 'be', 'fe', 'fl', 'fsp']\n"
          ]
        }
      ]
    },
    {
      "cell_type": "code",
      "source": [
        "thistuple = (\"apple\", \"banana\", \"cherry\")\n",
        "for i in range(len(thistuple)):\n",
        "  print(thistuple[i])\n",
        "\n",
        "\n",
        "thistuple = (\"apple\", \"banana\", \"cherry\")\n",
        "i = 0\n",
        "while i < len(thistuple):\n",
        "  print(thistuple[i])\n",
        "  i = i +2"
      ],
      "metadata": {
        "colab": {
          "base_uri": "https://localhost:8080/"
        },
        "id": "5rgCjc_V6ndA",
        "outputId": "48b379e4-a11e-4b86-a648-de90186addcb"
      },
      "execution_count": null,
      "outputs": [
        {
          "output_type": "stream",
          "name": "stdout",
          "text": [
            "apple\n",
            "banana\n",
            "cherry\n",
            "apple\n",
            "cherry\n"
          ]
        }
      ]
    },
    {
      "cell_type": "markdown",
      "source": [
        "Sets"
      ],
      "metadata": {
        "id": "QFHqOkuv6tBy"
      }
    },
    {
      "cell_type": "code",
      "source": [
        "me={\"Pavan\",17,\"No worries\",\"Mine\",\"Chilling\",\"APdhillon\",True,\"NOT me\",\"DOne job\"}\n",
        "you={\"No you in this\",\"Mine\",\"OKAY\"}\n",
        "print(type(me))\n",
        "for i in me:\n",
        "  print(i)\n",
        "\n",
        "print(\"Pavan\" in me) \n",
        "ok=me.union(you)\n",
        "print(ok)\n",
        "me.add(\"Sugreev\")\n",
        "print(me)\n",
        "\n",
        "me.update(you)\n",
        "print(me)\n",
        "me.remove(\"Chilling\")  # or use discard\n",
        "print(me)\n",
        "me.pop()\n",
        "print(me)\n",
        "i=me.intersection(you)\n",
        "print(i)"
      ],
      "metadata": {
        "colab": {
          "base_uri": "https://localhost:8080/"
        },
        "id": "IIsZfOJt6rqK",
        "outputId": "4cc31c4f-70da-4609-b867-5e3c7555fe72"
      },
      "execution_count": null,
      "outputs": [
        {
          "output_type": "stream",
          "name": "stdout",
          "text": [
            "<class 'set'>\n",
            "No worries\n",
            "True\n",
            "Pavan\n",
            "17\n",
            "Mine\n",
            "APdhillon\n",
            "NOT me\n",
            "DOne job\n",
            "Chilling\n",
            "True\n",
            "{'No worries', True, 'Pavan', 17, 'Mine', 'APdhillon', 'NOT me', 'DOne job', 'OKAY', 'No you in this', 'Chilling'}\n",
            "{'No worries', True, 'Pavan', 17, 'Mine', 'APdhillon', 'NOT me', 'DOne job', 'Sugreev', 'Chilling'}\n",
            "{'No worries', True, 'Pavan', 17, 'Mine', 'APdhillon', 'NOT me', 'DOne job', 'OKAY', 'Sugreev', 'No you in this', 'Chilling'}\n",
            "{'No worries', True, 'Pavan', 17, 'Mine', 'APdhillon', 'NOT me', 'DOne job', 'OKAY', 'Sugreev', 'No you in this'}\n",
            "{True, 'Pavan', 17, 'Mine', 'APdhillon', 'NOT me', 'DOne job', 'OKAY', 'Sugreev', 'No you in this'}\n",
            "{'Mine', 'No you in this', 'OKAY'}\n"
          ]
        }
      ]
    },
    {
      "cell_type": "markdown",
      "source": [
        "Dictionaries"
      ],
      "metadata": {
        "id": "MEm-fYeM-DMv"
      }
    },
    {
      "cell_type": "code",
      "source": [
        "mydict = {\n",
        "  \"brand\": \"BMW\",\n",
        "  \"model\": \"X7\",\n",
        "  \"year\": 2023,\n",
        "}\n",
        "print(mydict)\n",
        "print(len(mydict))\n",
        "print(type(mydict))\n",
        "x = mydict[\"model\"]#Use get()  x = thisdict.get(\"model\")\n",
        "print(x)\n",
        "y = mydict.keys()\n",
        "print(y)\n",
        "z = mydict.keys()\n",
        "print(z) #before the change\n",
        "mydict[\"color\"] = \"white\"\n",
        "print(z) #after the change\n",
        "a = mydict.values()\n",
        "print(a) #before the change\n",
        "mydict[\"year\"] = 2022\n",
        "print(a) #after the change\n",
        "mydict.update({\"year\": 2020})\n",
        "print(mydict)\n",
        "mydict.popitem()\n",
        "print(mydict)\n",
        "del mydict[\"model\"]\n",
        "print(mydict)\n",
        "for x in mydict:\n",
        "  print(mydict[x])"
      ],
      "metadata": {
        "colab": {
          "base_uri": "https://localhost:8080/"
        },
        "id": "gMySVWNs-FcS",
        "outputId": "9ca14f82-b8e4-4605-ba7f-ff0514386d77"
      },
      "execution_count": null,
      "outputs": [
        {
          "output_type": "stream",
          "name": "stdout",
          "text": [
            "{'brand': 'BMW', 'model': 'X7', 'year': 2023}\n",
            "3\n",
            "<class 'dict'>\n",
            "X7\n",
            "dict_keys(['brand', 'model', 'year'])\n",
            "dict_keys(['brand', 'model', 'year'])\n",
            "dict_keys(['brand', 'model', 'year', 'color'])\n",
            "dict_values(['BMW', 'X7', 2023, 'white'])\n",
            "dict_values(['BMW', 'X7', 2022, 'white'])\n",
            "{'brand': 'BMW', 'model': 'X7', 'year': 2020, 'color': 'white'}\n",
            "{'brand': 'BMW', 'model': 'X7', 'year': 2020}\n",
            "{'brand': 'BMW', 'year': 2020}\n",
            "BMW\n",
            "2020\n"
          ]
        }
      ]
    },
    {
      "cell_type": "code",
      "source": [
        "fruits = [\"apple\", \"banana\", \"cherry\"]\n",
        "fruits[0]=\"kiwi\"\n",
        "print(fruits)"
      ],
      "metadata": {
        "colab": {
          "base_uri": "https://localhost:8080/"
        },
        "id": "-XJItAFDnsZ7",
        "outputId": "84e036ee-fb2a-48fb-a847-912890874de1"
      },
      "execution_count": null,
      "outputs": [
        {
          "output_type": "stream",
          "name": "stdout",
          "text": [
            "['kiwi', 'banana', 'cherry']\n"
          ]
        }
      ]
    }
  ]
}