{
  "nbformat": 4,
  "nbformat_minor": 0,
  "metadata": {
    "colab": {
      "name": "Assignment3.ipynb",
      "provenance": [],
      "authorship_tag": "ABX9TyP04pTOETmJcttC2zSrIgeG",
      "include_colab_link": true
    },
    "kernelspec": {
      "name": "python3",
      "display_name": "Python 3"
    },
    "language_info": {
      "name": "python"
    }
  },
  "cells": [
    {
      "cell_type": "markdown",
      "metadata": {
        "id": "view-in-github",
        "colab_type": "text"
      },
      "source": [
        "<a href=\"https://colab.research.google.com/github/PAVANSUGREEV/Pyhtonnew/blob/Module3/Assignment3.ipynb\" target=\"_parent\"><img src=\"https://colab.research.google.com/assets/colab-badge.svg\" alt=\"Open In Colab\"/></a>"
      ]
    },
    {
      "cell_type": "markdown",
      "source": [
        "write a python program to find power of number with recursion and without recursion(input n=2 , p=3)"
      ],
      "metadata": {
        "id": "dDWV8SHHkyTb"
      }
    },
    {
      "cell_type": "code",
      "execution_count": null,
      "metadata": {
        "colab": {
          "base_uri": "https://localhost:8080/"
        },
        "id": "GPbaQUvTktVO",
        "outputId": "860fc217-1435-4874-9890-8f0cfb3f0563"
      },
      "outputs": [
        {
          "output_type": "stream",
          "name": "stdout",
          "text": [
            "5\n",
            "6\n",
            "Power of the two numbers is  15625\n"
          ]
        }
      ],
      "source": [
        "def power(n,p):\n",
        "  if p==0:\n",
        "    return 1\n",
        "  else:  \n",
        "    return (n*pow(n,p-1))\n",
        "n=int(input())\n",
        "p=int(input())\n",
        "print(\"Power of the two numbers is \",pow(n,p))"
      ]
    },
    {
      "cell_type": "markdown",
      "source": [
        "write a program to sort tuple by total digits (input: list=[(3,4,6,723),(1,2),(134,234,34)])\n",
        "      output:[(1,2)(3,4,6,723)(34,134,234)]"
      ],
      "metadata": {
        "id": "edUKP3lLmkuj"
      }
    },
    {
      "cell_type": "code",
      "source": [
        "l1=[(3,4,6,723),(1,2),(134,234,34)]\n",
        "l2=sorted(l1)\n",
        "l3=[]\n",
        "print(l2)\n",
        "for x in l2:\n",
        "  a=sorted(x)\n",
        "  b=tuple(a)\n",
        "  l3.append(b)\n",
        "print(l3)"
      ],
      "metadata": {
        "colab": {
          "base_uri": "https://localhost:8080/"
        },
        "id": "bN4XBoiPmmir",
        "outputId": "0dee1ba3-d034-4fdf-ec53-0f29533667a0"
      },
      "execution_count": null,
      "outputs": [
        {
          "output_type": "stream",
          "name": "stdout",
          "text": [
            "[(1, 2), (3, 4, 6, 723), (134, 234, 34)]\n",
            "[(1, 2), (3, 4, 6, 723), (34, 134, 234)]\n"
          ]
        }
      ]
    },
    {
      "cell_type": "markdown",
      "source": [
        "take five subjects from the user and display the grade of the student,if average is 90-100(o),80-89(a+),70-79(a)..."
      ],
      "metadata": {
        "id": "nd-9D9PrmyCr"
      }
    },
    {
      "cell_type": "code",
      "source": [
        "a=int(input())\n",
        "b=int(input())\n",
        "c=int(input())\n",
        "d=int(input())\n",
        "e=int(input())\n",
        "tot=a+b+c+d+e\n",
        "if tot>=90:\n",
        "  print(\"O\")\n",
        "elif tot>=80 and tot<90:\n",
        "  print(\"A+\")\n",
        "elif tot>=70 and tot<80:\n",
        "  print(\"A\")\n",
        "elif tot>=0 and tot<70:\n",
        "  print(\"Good\")     "
      ],
      "metadata": {
        "colab": {
          "base_uri": "https://localhost:8080/"
        },
        "id": "ozJZxwiim02q",
        "outputId": "fe654843-f49c-4e92-e69a-9e0483d50061"
      },
      "execution_count": null,
      "outputs": [
        {
          "output_type": "stream",
          "name": "stdout",
          "text": [
            "20\n",
            "19\n",
            "20\n",
            "15\n",
            "12\n",
            "A+\n"
          ]
        }
      ]
    },
    {
      "cell_type": "markdown",
      "source": [
        "write a python program that prints 1 if all three given numbers are ascending order."
      ],
      "metadata": {
        "id": "JEbs5Ev7oK07"
      }
    },
    {
      "cell_type": "code",
      "source": [
        "x=int(input(\"!st no \"))\n",
        "y=int(input(\"2nd no \"))\n",
        "z=int(input(\"3rd no \"))\n",
        "if y==x+1 and x==z-2 and y==z-1 and z==x+2 :\n",
        "  print(\"1\")\n",
        "else:\n",
        "  print(\"No!\") "
      ],
      "metadata": {
        "colab": {
          "base_uri": "https://localhost:8080/"
        },
        "id": "gYBgqD17oM-L",
        "outputId": "eae06f44-0b1b-48a3-fb8f-da380aa90819"
      },
      "execution_count": null,
      "outputs": [
        {
          "output_type": "stream",
          "name": "stdout",
          "text": [
            "!st no 4\n",
            "2nd no 5\n",
            "3rd no 6\n",
            "1\n"
          ]
        }
      ]
    },
    {
      "cell_type": "markdown",
      "source": [
        "check a given number is perfect number are not"
      ],
      "metadata": {
        "id": "xGV5xa0VpISb"
      }
    },
    {
      "cell_type": "code",
      "source": [
        "x=int(input())\n",
        "sum1 = 0\n",
        "for i in range(1, x):\n",
        "    if(x % i == 0):\n",
        "        sum1 = sum1 + i\n",
        "if (sum1 == x):\n",
        "    print(\"The number is a Perfect number!\")\n",
        "else:\n",
        "    print(\"The number is not a Perfect number!\")"
      ],
      "metadata": {
        "colab": {
          "base_uri": "https://localhost:8080/"
        },
        "id": "EHDzGDcPpLXK",
        "outputId": "9e473deb-fb49-49c9-f99f-d049ef302210"
      },
      "execution_count": null,
      "outputs": [
        {
          "output_type": "stream",
          "name": "stdout",
          "text": [
            "6\n",
            "The number is a Perfect number!\n"
          ]
        }
      ]
    },
    {
      "cell_type": "markdown",
      "source": [
        "check a given string is a pallindrome or not"
      ],
      "metadata": {
        "id": "J16w5NN4tt7A"
      }
    },
    {
      "cell_type": "code",
      "source": [
        "st = input(\"Please enter your own text : \")\n",
        "if(st == st[:: - 1]):\n",
        "   print(\"This is a Palindrome String\")\n",
        "else:\n",
        "   print(\"This is Not\")"
      ],
      "metadata": {
        "colab": {
          "base_uri": "https://localhost:8080/"
        },
        "id": "SuA_jC-utwvp",
        "outputId": "0525bcd9-a954-4cf8-b9d5-30622878278c"
      },
      "execution_count": null,
      "outputs": [
        {
          "output_type": "stream",
          "name": "stdout",
          "text": [
            "Please enter your own text : aabbaa\n",
            "This is a Palindrome String\n"
          ]
        }
      ]
    },
    {
      "cell_type": "markdown",
      "source": [
        "find the gcd of two numbers with and without recursion(5,3=1)"
      ],
      "metadata": {
        "id": "O6TQIfACuHtx"
      }
    },
    {
      "cell_type": "code",
      "source": [
        "def GCD(x,y):\n",
        "    r=x%y\n",
        "    if(r==0):\n",
        "        return y\n",
        "    else:\n",
        "        return GCD(y,r)\n",
        "a= int(input())\n",
        "b= int(input())\n",
        "print(\"The GCD of two numbers is:\", GCD(a,b))"
      ],
      "metadata": {
        "colab": {
          "base_uri": "https://localhost:8080/"
        },
        "id": "OeFqw0yeuL0Y",
        "outputId": "f6ce41d3-bd78-49ed-ac1f-159dca97b254"
      },
      "execution_count": null,
      "outputs": [
        {
          "output_type": "stream",
          "name": "stdout",
          "text": [
            "5\n",
            "11\n",
            "The GCD of two numbers is: 1\n"
          ]
        }
      ]
    },
    {
      "cell_type": "markdown",
      "source": [
        "print sum of even digits in a given number"
      ],
      "metadata": {
        "id": "4ugHiFbzuQ2o"
      }
    },
    {
      "cell_type": "code",
      "source": [
        "maximum = int(input(\" Please Enter the Maximum Value : \"))\n",
        "total = 0\n",
        "for number in range(1, maximum+1):\n",
        "    if(number % 2 == 0):\n",
        "        print(\"{0}\".format(number))\n",
        "        total = total + number\n",
        "print(\"The Sum of Even Numbers from 1 to {0} = {1}\".format(number, total))"
      ],
      "metadata": {
        "colab": {
          "base_uri": "https://localhost:8080/"
        },
        "id": "x52tlWqwuTC4",
        "outputId": "706c3401-c0f3-403f-e8bf-7784daec42d7"
      },
      "execution_count": null,
      "outputs": [
        {
          "output_type": "stream",
          "name": "stdout",
          "text": [
            " Please Enter the Maximum Value : 6\n",
            "2\n",
            "4\n",
            "6\n",
            "The Sum of Even Numbers from 1 to 6 = 12\n"
          ]
        }
      ]
    },
    {
      "cell_type": "markdown",
      "source": [
        "calculate the product of digits of a number\n"
      ],
      "metadata": {
        "id": "B3a-OJcuvEnZ"
      }
    },
    {
      "cell_type": "code",
      "source": [
        "def getProduct(n):\n",
        "    product = 1\n",
        "    while (n!= 0):\n",
        "        product=product*(n % 10)\n",
        "        n=n//10\n",
        "    return product\n",
        "n =int(input())\n",
        "print(getProduct(n))"
      ],
      "metadata": {
        "colab": {
          "base_uri": "https://localhost:8080/"
        },
        "id": "Ese0nfMevHco",
        "outputId": "60bb2f8d-5222-45b8-f79f-55bd6835ed4d"
      },
      "execution_count": null,
      "outputs": [
        {
          "output_type": "stream",
          "name": "stdout",
          "text": [
            "3213132132132132135120\n",
            "0\n"
          ]
        }
      ]
    },
    {
      "cell_type": "markdown",
      "source": [
        "write a program to calculate the sum of squares given by user(123=14)"
      ],
      "metadata": {
        "id": "KYO7LxPEwtwI"
      }
    },
    {
      "cell_type": "code",
      "source": [
        "def getSum(n):\n",
        "    mmmmmmmmmmmlist\n",
        "    sum = 0\n",
        "    for digit in str(n): \n",
        "      sum += int(digit)      \n",
        "    return sum\n",
        "   \n",
        "n =int(input())\n",
        "print(getSum(n))"
      ],
      "metadata": {
        "colab": {
          "base_uri": "https://localhost:8080/",
          "height": 354
        },
        "id": "WPu7mvmIwwS4",
        "outputId": "d5cafeee-8c7c-4794-ae05-e096914446f7"
      },
      "execution_count": null,
      "outputs": [
        {
          "name": "stdout",
          "output_type": "stream",
          "text": [
            "1\n"
          ]
        },
        {
          "output_type": "error",
          "ename": "NameError",
          "evalue": "ignored",
          "traceback": [
            "\u001b[0;31m---------------------------------------------------------------------------\u001b[0m",
            "\u001b[0;31mNameError\u001b[0m                                 Traceback (most recent call last)",
            "\u001b[0;32m<ipython-input-37-51217bd28f4c>\u001b[0m in \u001b[0;36m<module>\u001b[0;34m()\u001b[0m\n\u001b[1;32m      7\u001b[0m \u001b[0;34m\u001b[0m\u001b[0m\n\u001b[1;32m      8\u001b[0m \u001b[0mn\u001b[0m \u001b[0;34m=\u001b[0m\u001b[0mint\u001b[0m\u001b[0;34m(\u001b[0m\u001b[0minput\u001b[0m\u001b[0;34m(\u001b[0m\u001b[0;34m)\u001b[0m\u001b[0;34m)\u001b[0m\u001b[0;34m\u001b[0m\u001b[0;34m\u001b[0m\u001b[0m\n\u001b[0;32m----> 9\u001b[0;31m \u001b[0mprint\u001b[0m\u001b[0;34m(\u001b[0m\u001b[0mgetSum\u001b[0m\u001b[0;34m(\u001b[0m\u001b[0mn\u001b[0m\u001b[0;34m)\u001b[0m\u001b[0;34m)\u001b[0m\u001b[0;34m\u001b[0m\u001b[0;34m\u001b[0m\u001b[0m\n\u001b[0m",
            "\u001b[0;32m<ipython-input-37-51217bd28f4c>\u001b[0m in \u001b[0;36mgetSum\u001b[0;34m(n)\u001b[0m\n\u001b[1;32m      1\u001b[0m \u001b[0;32mdef\u001b[0m \u001b[0mgetSum\u001b[0m\u001b[0;34m(\u001b[0m\u001b[0mn\u001b[0m\u001b[0;34m)\u001b[0m\u001b[0;34m:\u001b[0m\u001b[0;34m\u001b[0m\u001b[0;34m\u001b[0m\u001b[0m\n\u001b[0;32m----> 2\u001b[0;31m     \u001b[0mmmmmmmmmmmmlist\u001b[0m\u001b[0;34m\u001b[0m\u001b[0;34m\u001b[0m\u001b[0m\n\u001b[0m\u001b[1;32m      3\u001b[0m     \u001b[0msum\u001b[0m \u001b[0;34m=\u001b[0m \u001b[0;36m0\u001b[0m\u001b[0;34m\u001b[0m\u001b[0;34m\u001b[0m\u001b[0m\n\u001b[1;32m      4\u001b[0m     \u001b[0;32mfor\u001b[0m \u001b[0mdigit\u001b[0m \u001b[0;32min\u001b[0m \u001b[0mstr\u001b[0m\u001b[0;34m(\u001b[0m\u001b[0mn\u001b[0m\u001b[0;34m)\u001b[0m\u001b[0;34m:\u001b[0m\u001b[0;34m\u001b[0m\u001b[0;34m\u001b[0m\u001b[0m\n\u001b[1;32m      5\u001b[0m       \u001b[0msum\u001b[0m \u001b[0;34m+=\u001b[0m \u001b[0mint\u001b[0m\u001b[0;34m(\u001b[0m\u001b[0mdigit\u001b[0m\u001b[0;34m)\u001b[0m\u001b[0;34m\u001b[0m\u001b[0;34m\u001b[0m\u001b[0m\n",
            "\u001b[0;31mNameError\u001b[0m: name 'mmmmmmmmmmmlist' is not defined"
          ]
        }
      ]
    },
    {
      "cell_type": "markdown",
      "source": [
        "given a string is s= abcdefcba how many times ith character from the front equals last ith element\n",
        "            print(countfrontbackmatches('abcdefcba'))"
      ],
      "metadata": {
        "id": "EHbJFrM5yTJX"
      }
    },
    {
      "cell_type": "code",
      "source": [
        ""
      ],
      "metadata": {
        "id": "nBAxmvQWyYhn"
      },
      "execution_count": null,
      "outputs": []
    },
    {
      "cell_type": "markdown",
      "source": [
        "print number of vowels and consonents in a given string(gitam university)"
      ],
      "metadata": {
        "id": "Aemk6_Dl0XzP"
      }
    },
    {
      "cell_type": "code",
      "source": [
        "str=\"gitam university\"\n",
        "vowels=0\n",
        "consonants=0\n",
        "for i in str:\n",
        "    if(i == 'a'or i == 'e'or i == 'i'or i == 'o'or i == 'u' or\n",
        "       i == 'A'or i == 'E'or i == 'I'or i == 'O'or i == 'U' ):\n",
        "           vowels=vowels+1;\n",
        "    else:\n",
        "        consonants=consonants+1;\n",
        "print(\"The number of vowels:\",vowels);\n",
        "print(\"\\nThe number of consonant:\",consonants);"
      ],
      "metadata": {
        "colab": {
          "base_uri": "https://localhost:8080/"
        },
        "id": "YbU9XWTP0bFG",
        "outputId": "b7b8a127-6a35-4784-d960-d2546525f989"
      },
      "execution_count": null,
      "outputs": [
        {
          "output_type": "stream",
          "name": "stdout",
          "text": [
            "The number of vowels: 6\n",
            "\n",
            "The number of consonant: 10\n"
          ]
        }
      ]
    },
    {
      "cell_type": "markdown",
      "source": [
        "given wo integers a and b.if a <b ,print all numbers between in ascending order.if a>b print all numbers between in decending order"
      ],
      "metadata": {
        "id": "cpus9cjN1fUG"
      }
    },
    {
      "cell_type": "code",
      "source": [
        "x=int(input())\n",
        "y=int(input())\n",
        "for numbs range (x,y+1):\n",
        "  if x>y:\n",
        "    "
      ],
      "metadata": {
        "id": "gxcS-P2j1hlW"
      },
      "execution_count": null,
      "outputs": []
    },
    {
      "cell_type": "markdown",
      "source": [
        ")program to print greatest of three numbers"
      ],
      "metadata": {
        "id": "B4DvshN934s1"
      }
    },
    {
      "cell_type": "code",
      "source": [
        "x=int(input())\n",
        "y=int(input())\n",
        "z=int(input())\n",
        "if(x>y and x>y):\n",
        "  print('Max is',x)\n",
        "elif(y>z and y>x):\n",
        "  print('Max is',y)\n",
        "else:\n",
        "  print('Max is',z)"
      ],
      "metadata": {
        "colab": {
          "base_uri": "https://localhost:8080/"
        },
        "id": "qsTlgGPc35J1",
        "outputId": "d7965488-7cab-4f18-bfb3-67769ceaab5d"
      },
      "execution_count": null,
      "outputs": [
        {
          "output_type": "stream",
          "name": "stdout",
          "text": [
            "5\n",
            "6\n",
            "9\n",
            "Max is 9\n"
          ]
        }
      ]
    },
    {
      "cell_type": "markdown",
      "source": [
        "write a program to print numbers of strings where the string length is 2 or more and the fist and last are same from given input"
      ],
      "metadata": {
        "id": "g_lvwdwI4efO"
      }
    },
    {
      "cell_type": "code",
      "source": [
        "def match_words(words):\n",
        "  ctr = 0\n",
        "\n",
        "  for word in words:\n",
        "    if len(word) > 1 and word[0] == word[-1]:\n",
        "      ctr += 1\n",
        "  return ctr\n",
        "\n",
        "print(match_words(['abc', 'xyz', 'aba', '1221']))"
      ],
      "metadata": {
        "colab": {
          "base_uri": "https://localhost:8080/"
        },
        "id": "4ZJkj5fk4fQF",
        "outputId": "d9c45329-ee77-4efc-e254-d3a407595112"
      },
      "execution_count": null,
      "outputs": [
        {
          "output_type": "stream",
          "name": "stdout",
          "text": [
            "2\n"
          ]
        }
      ]
    },
    {
      "cell_type": "markdown",
      "source": [
        "round trip of 3+3=6 km.no of days and no of round trips.<40000 meters (need to walk more ) >40000 meters (good job)"
      ],
      "metadata": {
        "id": "zKBCV8Bf4r0F"
      }
    },
    {
      "cell_type": "code",
      "source": [
        "x=int(input(\"No.of KM \"))\n",
        "z=x*1000\n",
        "if z<40000:\n",
        "  print(\"Need to walk more\")\n",
        "elif z>40000:\n",
        "  print(\"Good job\")  "
      ],
      "metadata": {
        "colab": {
          "base_uri": "https://localhost:8080/"
        },
        "id": "7vKvHXCW4t5U",
        "outputId": "d145802e-d988-4dd3-cc2e-fba683215a26"
      },
      "execution_count": null,
      "outputs": [
        {
          "output_type": "stream",
          "name": "stdout",
          "text": [
            "No.of KM 21\n",
            "Need to walk more\n"
          ]
        }
      ]
    },
    {
      "cell_type": "markdown",
      "source": [
        "given alist of students l and a charter, display thenames of the students whose first character is a gien character\n",
        "                  print(student details([]))"
      ],
      "metadata": {
        "id": "XBKsgLDg5IMM"
      }
    },
    {
      "cell_type": "code",
      "source": [
        ""
      ],
      "metadata": {
        "id": "FECmwI1Z5KGk"
      },
      "execution_count": null,
      "outputs": []
    }
  ]
}