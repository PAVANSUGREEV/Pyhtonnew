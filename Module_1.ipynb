{
  "nbformat": 4,
  "nbformat_minor": 0,
  "metadata": {
    "colab": {
      "name": "Module 1.ipynb",
      "provenance": [],
      "collapsed_sections": [],
      "authorship_tag": "ABX9TyOeffsj2qFdtPARc5AjxqN4",
      "include_colab_link": true
    },
    "kernelspec": {
      "name": "python3",
      "display_name": "Python 3"
    },
    "language_info": {
      "name": "python"
    }
  },
  "cells": [
    {
      "cell_type": "markdown",
      "metadata": {
        "id": "view-in-github",
        "colab_type": "text"
      },
      "source": [
        "<a href=\"https://colab.research.google.com/github/PAVANSUGREEV/Pyhtonnew/blob/Module1/Module_1.ipynb\" target=\"_parent\"><img src=\"https://colab.research.google.com/assets/colab-badge.svg\" alt=\"Open In Colab\"/></a>"
      ]
    },
    {
      "cell_type": "markdown",
      "source": [
        "Accept input from user and store it in variable and print the value."
      ],
      "metadata": {
        "id": "sFOklfnzQjxv"
      }
    },
    {
      "cell_type": "code",
      "source": [
        "x=int(input())\n",
        "print(x)"
      ],
      "metadata": {
        "colab": {
          "base_uri": "https://localhost:8080/"
        },
        "id": "MqoGjotnQk3l",
        "outputId": "08ef29ee-d423-45ea-e340-00120dab617b"
      },
      "execution_count": null,
      "outputs": [
        {
          "output_type": "stream",
          "name": "stdout",
          "text": [
            "5\n",
            "5\n"
          ]
        }
      ]
    },
    {
      "cell_type": "markdown",
      "source": [
        "Take 2 numbers as user input and add, multiply, divide, subtract, remainder and print\n",
        "the output (Same operations on floating point input as well)"
      ],
      "metadata": {
        "id": "nd22cmhoRZyv"
      }
    },
    {
      "cell_type": "code",
      "source": [
        "x=int(input())\n",
        "y=float(input())\n",
        "print(\"Add\",x+y)\n",
        "print(\"Subtract\",x-y)\n",
        "print(\"Multi\",x*y)\n",
        "print(\"Divide\",x/y)"
      ],
      "metadata": {
        "colab": {
          "base_uri": "https://localhost:8080/"
        },
        "id": "fnkz2oATRaSE",
        "outputId": "f8b1ab03-8a29-487f-b3cf-37c074952773"
      },
      "execution_count": null,
      "outputs": [
        {
          "output_type": "stream",
          "name": "stdout",
          "text": [
            "25\n",
            "36\n",
            "Add 61.0\n",
            "Subtract -11.0\n",
            "Multi 900.0\n",
            "Divide 0.6944444444444444\n"
          ]
        }
      ]
    },
    {
      "cell_type": "markdown",
      "source": [
        "Conversion of one unit to another (such as hours to minutes, miles to km and etc)"
      ],
      "metadata": {
        "id": "az0JpyQ0R-Cm"
      }
    },
    {
      "cell_type": "code",
      "source": [
        "x=float(input())\n",
        "\n",
        "print(x*60)  #hours to minutes\n",
        "print(x*1.60934)   #Miles to KM"
      ],
      "metadata": {
        "colab": {
          "base_uri": "https://localhost:8080/"
        },
        "id": "SJEPfB92SBiM",
        "outputId": "e3cf1bb0-c3ac-4729-cecc-97a72af74ecb"
      },
      "execution_count": null,
      "outputs": [
        {
          "output_type": "stream",
          "name": "stdout",
          "text": [
            "20.2558\n",
            "1215.348\n",
            "32.598469172\n"
          ]
        }
      ]
    },
    {
      "cell_type": "markdown",
      "source": [
        "Usage of mathematical functions in python like math.ceil, floor, fabs, fmod, trunc,\n",
        "pow, sqrt etc."
      ],
      "metadata": {
        "id": "v-FpJ8XVSvPt"
      }
    },
    {
      "cell_type": "code",
      "source": [
        "import math\n",
        "\n",
        "x=-2.365\n",
        "print(math.ceil(x))\n",
        "y=2.3698\n",
        "print(math.floor(y))\n",
        "z=2.516\n",
        "print(math.fabs(z))  \n",
        "a=-5.693\n",
        "print(math.copysign(a,z))"
      ],
      "metadata": {
        "colab": {
          "base_uri": "https://localhost:8080/"
        },
        "id": "KVk_d9XvSxZ0",
        "outputId": "9e42782d-9be1-44f6-d50c-9fd4afc726d8"
      },
      "execution_count": null,
      "outputs": [
        {
          "output_type": "stream",
          "name": "stdout",
          "text": [
            "-2\n",
            "2\n",
            "2.516\n",
            "5.693\n"
          ]
        }
      ]
    },
    {
      "cell_type": "markdown",
      "source": [
        "Building a mathematical calculator that can perform operations according to user input. Use decision making statement.\n"
      ],
      "metadata": {
        "id": "lEVbAp9zYh0W"
      }
    },
    {
      "cell_type": "code",
      "source": [
        "def add(x, y):\n",
        "    return x + y\n",
        "def subtract(x, y):\n",
        "    return x - y\n",
        "def multiply(x, y):\n",
        "    return x * y\n",
        "def divide(x, y):\n",
        "    return x / y\n",
        "print(\"Select operation.\")\n",
        "print(\"1.Add\")\n",
        "print(\"2.Subtract\")\n",
        "print(\"3.Multiply\")\n",
        "print(\"4.Divide\")\n",
        "while True:\n",
        "    choice = input(\"Enter choice(1/2/3/4): \")\n",
        "    if choice in ('1', '2', '3', '4'):\n",
        "        num1 = float(input(\"Enter first number: \"))\n",
        "        num2 = float(input(\"Enter second number: \"))\n",
        "        if choice == '1':\n",
        "            print(num1, \"+\", num2, \"=\", add(num1, num2))\n",
        "        elif choice == '2':\n",
        "            print(num1, \"-\", num2, \"=\", subtract(num1, num2))\n",
        "        elif choice == '3':\n",
        "            print(num1, \"*\", num2, \"=\", multiply(num1, num2))\n",
        "        elif choice == '4':\n",
        "            print(num1, \"/\", num2, \"=\", divide(num1, num2))\n",
        "        nextcalculation = input(\"Let's do next calculation? (yes/no): \")\n",
        "        if nextcalculation == \"no\":\n",
        "          break\n",
        "    else:\n",
        "        print(\"Invalid Input\")"
      ],
      "metadata": {
        "colab": {
          "base_uri": "https://localhost:8080/"
        },
        "id": "V6KSlnGVYkS0",
        "outputId": "a9bbe5f4-3de1-4bd5-f7d8-7ceee028094b"
      },
      "execution_count": null,
      "outputs": [
        {
          "name": "stdout",
          "output_type": "stream",
          "text": [
            "Select operation.\n",
            "1.Add\n",
            "2.Subtract\n",
            "3.Multiply\n",
            "4.Divide\n",
            "Enter choice(1/2/3/4): 2\n",
            "Enter first number: 32\n",
            "Enter second number: 23\n",
            "32.0 - 23.0 = 9.0\n",
            "Let's do next calculation? (yes/no): no\n"
          ]
        }
      ]
    },
    {
      "cell_type": "markdown",
      "source": [
        "Accepting 5 different subject marks from user and displaying the grade of the student."
      ],
      "metadata": {
        "id": "6Q0cepC1ZeWN"
      }
    },
    {
      "cell_type": "code",
      "source": [
        "a=int(input())\n",
        "b=int(input())\n",
        "c=int(input())\n",
        "d=int(input())\n",
        "e=int(input())\n",
        "total=a+b+c+d+e;\n",
        "if total>=90:\n",
        "  print(\"10 points\")\n",
        "elif total>80 and total<90:\n",
        "  print(\"9 points\")\n",
        "elif total>70 and total<60:\n",
        "  print(\"8 points\")\n",
        "else:\n",
        "  print(\"Better luck next time\")\n",
        "        "
      ],
      "metadata": {
        "id": "PArnv_YPZiHU",
        "colab": {
          "base_uri": "https://localhost:8080/"
        },
        "outputId": "9472136c-e291-4eb6-c101-a6e7b74d37a8"
      },
      "execution_count": null,
      "outputs": [
        {
          "output_type": "stream",
          "name": "stdout",
          "text": [
            "19\n",
            "19\n",
            "19\n",
            "19\n",
            "19\n",
            "10 points\n"
          ]
        }
      ]
    },
    {
      "cell_type": "markdown",
      "source": [
        "Printing all even numbers, odd numbers, count of even numbers, count of odd numbers\n",
        "within a given range"
      ],
      "metadata": {
        "id": "WqbAPsbeAoPd"
      }
    },
    {
      "cell_type": "code",
      "source": [
        "even,odd=0,0\n",
        "for i in range(1,200):\n",
        " if i%2 == 0:\n",
        "   print(\"Even\",i)\n",
        "   even+=1\n",
        "\n",
        " elif i%2!=0:\n",
        "   print(\"odd\",i)\n",
        "   odd+=1\n",
        "   \n",
        "print(\"Count of Odd:\",odd)\n",
        "print(\"Count of Even :\",even)"
      ],
      "metadata": {
        "colab": {
          "base_uri": "https://localhost:8080/"
        },
        "id": "AvKyCWmSAr3h",
        "outputId": "63f06dc7-86b4-4075-f4fd-2bc589f9af1c"
      },
      "execution_count": null,
      "outputs": [
        {
          "output_type": "stream",
          "name": "stdout",
          "text": [
            "odd 1\n",
            "Even 2\n",
            "odd 3\n",
            "Even 4\n",
            "odd 5\n",
            "Even 6\n",
            "odd 7\n",
            "Even 8\n",
            "odd 9\n",
            "Even 10\n",
            "odd 11\n",
            "Even 12\n",
            "odd 13\n",
            "Even 14\n",
            "odd 15\n",
            "Even 16\n",
            "odd 17\n",
            "Even 18\n",
            "odd 19\n",
            "Even 20\n",
            "odd 21\n",
            "Even 22\n",
            "odd 23\n",
            "Even 24\n",
            "odd 25\n",
            "Even 26\n",
            "odd 27\n",
            "Even 28\n",
            "odd 29\n",
            "Even 30\n",
            "odd 31\n",
            "Even 32\n",
            "odd 33\n",
            "Even 34\n",
            "odd 35\n",
            "Even 36\n",
            "odd 37\n",
            "Even 38\n",
            "odd 39\n",
            "Even 40\n",
            "odd 41\n",
            "Even 42\n",
            "odd 43\n",
            "Even 44\n",
            "odd 45\n",
            "Even 46\n",
            "odd 47\n",
            "Even 48\n",
            "odd 49\n",
            "Even 50\n",
            "odd 51\n",
            "Even 52\n",
            "odd 53\n",
            "Even 54\n",
            "odd 55\n",
            "Even 56\n",
            "odd 57\n",
            "Even 58\n",
            "odd 59\n",
            "Even 60\n",
            "odd 61\n",
            "Even 62\n",
            "odd 63\n",
            "Even 64\n",
            "odd 65\n",
            "Even 66\n",
            "odd 67\n",
            "Even 68\n",
            "odd 69\n",
            "Even 70\n",
            "odd 71\n",
            "Even 72\n",
            "odd 73\n",
            "Even 74\n",
            "odd 75\n",
            "Even 76\n",
            "odd 77\n",
            "Even 78\n",
            "odd 79\n",
            "Even 80\n",
            "odd 81\n",
            "Even 82\n",
            "odd 83\n",
            "Even 84\n",
            "odd 85\n",
            "Even 86\n",
            "odd 87\n",
            "Even 88\n",
            "odd 89\n",
            "Even 90\n",
            "odd 91\n",
            "Even 92\n",
            "odd 93\n",
            "Even 94\n",
            "odd 95\n",
            "Even 96\n",
            "odd 97\n",
            "Even 98\n",
            "odd 99\n",
            "Even 100\n",
            "odd 101\n",
            "Even 102\n",
            "odd 103\n",
            "Even 104\n",
            "odd 105\n",
            "Even 106\n",
            "odd 107\n",
            "Even 108\n",
            "odd 109\n",
            "Even 110\n",
            "odd 111\n",
            "Even 112\n",
            "odd 113\n",
            "Even 114\n",
            "odd 115\n",
            "Even 116\n",
            "odd 117\n",
            "Even 118\n",
            "odd 119\n",
            "Even 120\n",
            "odd 121\n",
            "Even 122\n",
            "odd 123\n",
            "Even 124\n",
            "odd 125\n",
            "Even 126\n",
            "odd 127\n",
            "Even 128\n",
            "odd 129\n",
            "Even 130\n",
            "odd 131\n",
            "Even 132\n",
            "odd 133\n",
            "Even 134\n",
            "odd 135\n",
            "Even 136\n",
            "odd 137\n",
            "Even 138\n",
            "odd 139\n",
            "Even 140\n",
            "odd 141\n",
            "Even 142\n",
            "odd 143\n",
            "Even 144\n",
            "odd 145\n",
            "Even 146\n",
            "odd 147\n",
            "Even 148\n",
            "odd 149\n",
            "Even 150\n",
            "odd 151\n",
            "Even 152\n",
            "odd 153\n",
            "Even 154\n",
            "odd 155\n",
            "Even 156\n",
            "odd 157\n",
            "Even 158\n",
            "odd 159\n",
            "Even 160\n",
            "odd 161\n",
            "Even 162\n",
            "odd 163\n",
            "Even 164\n",
            "odd 165\n",
            "Even 166\n",
            "odd 167\n",
            "Even 168\n",
            "odd 169\n",
            "Even 170\n",
            "odd 171\n",
            "Even 172\n",
            "odd 173\n",
            "Even 174\n",
            "odd 175\n",
            "Even 176\n",
            "odd 177\n",
            "Even 178\n",
            "odd 179\n",
            "Even 180\n",
            "odd 181\n",
            "Even 182\n",
            "odd 183\n",
            "Even 184\n",
            "odd 185\n",
            "Even 186\n",
            "odd 187\n",
            "Even 188\n",
            "odd 189\n",
            "Even 190\n",
            "odd 191\n",
            "Even 192\n",
            "odd 193\n",
            "Even 194\n",
            "odd 195\n",
            "Even 196\n",
            "odd 197\n",
            "Even 198\n",
            "odd 199\n",
            "Count of Odd: 100\n",
            "Count of Even : 99\n"
          ]
        }
      ]
    },
    {
      "cell_type": "markdown",
      "source": [
        "Compute the factorial of a given number. b) Compute GCD of two given\n",
        "numbers. c) Generate Fibonacci series up to N numbers"
      ],
      "metadata": {
        "id": "ZMSlCjm1DXGB"
      }
    },
    {
      "cell_type": "code",
      "source": [
        "#Factorial of a Number\n",
        "num =int(input())\n",
        "factorial = 1\n",
        "for i in range(1,num + 1):\n",
        " factorial = factorial*i\n",
        "print(\"The factorial of\",num,\"is\",factorial)\n",
        "\n",
        "#Compute GCD of two given number\n",
        "def gcdfun (x, y):  \n",
        "    if (y == 0): \n",
        "        return x  \n",
        "    else:  \n",
        "        return gcdfun (y, x % y)  \n",
        "x =int (input ())    \n",
        "y =int (input ())  \n",
        "num = gcdfun(x, y) \n",
        "print(\"GCD of two number is: \")  \n",
        "print(num)\n",
        "\n",
        "# Generate Fibonacci series up to N numbers"
      ],
      "metadata": {
        "colab": {
          "base_uri": "https://localhost:8080/"
        },
        "id": "b0EXK296DZb1",
        "outputId": "39afed0b-884a-4932-a4ea-eaf12e73dd48"
      },
      "execution_count": null,
      "outputs": [
        {
          "output_type": "stream",
          "name": "stdout",
          "text": [
            "52\n",
            "The factorial of 52 is 80658175170943878571660636856403766975289505440883277824000000000000\n",
            "325\n",
            "256\n",
            "GCD of two number is: \n",
            "1\n"
          ]
        }
      ]
    },
    {
      "cell_type": "markdown",
      "source": [
        "Check whether the given input is a) palindrome b) strong c) perfect"
      ],
      "metadata": {
        "id": "moCn2bADGzkk"
      }
    },
    {
      "cell_type": "code",
      "source": [
        "n=int(input())\n",
        "temp=n\n",
        "rev=0\n",
        "while(n>0):\n",
        "    dig=n%10\n",
        "    rev=rev*10+dig\n",
        "    n=n//10\n",
        "if(temp==rev):\n",
        "    print(\"The number is a palindrome\")\n",
        "else:\n",
        "    print(\"The number isn't a palindrome!\")\n",
        "\n",
        "#strong number\n",
        "sum1=0\n",
        "temp=n\n",
        "while(n):\n",
        "    i=1\n",
        "    f=1\n",
        "    r=n%10\n",
        "    while(i<=r):\n",
        "        f=f*i\n",
        "        i=i+1\n",
        "    sum1=sum1+f\n",
        "    n=n//10\n",
        "if(sum1==temp):\n",
        "    print(\"The number is a strong number\")\n",
        "else:\n",
        "    print(\"The number is not a strong number!\")\n",
        "\n",
        "#perfect number\n",
        "sum1 = 0\n",
        "for i in range(1, n):\n",
        "    if(n % i == 0):\n",
        "        sum1 = sum1 + i\n",
        "if (sum1 == n):\n",
        "    print(\"The number is a Perfect number\")\n",
        "else:\n",
        "    print(\"The number is not a Perfect number!\")        "
      ],
      "metadata": {
        "colab": {
          "base_uri": "https://localhost:8080/"
        },
        "id": "Yec-dBvcG2e9",
        "outputId": "dc10af29-a8ca-4230-debf-69ea8e4f431d"
      },
      "execution_count": null,
      "outputs": [
        {
          "output_type": "stream",
          "name": "stdout",
          "text": [
            "415236987\n",
            "The number isn't a palindrome!\n",
            "The number is a strong number\n",
            "The number is a Perfect number\n"
          ]
        }
      ]
    },
    {
      "cell_type": "markdown",
      "source": [
        "Compute compound interest using loop for a certain principal and interest amount"
      ],
      "metadata": {
        "id": "hmCC4ySmIIAl"
      }
    },
    {
      "cell_type": "code",
      "source": [
        "p = float(input(\"Enter the principal amount : \"))\n",
        "t = float(input(\"Enter the number of years : \"))\n",
        "r = float(input(\"Enter the rate of interest : \"))\n",
        "ci =  p * (pow((1 + r / 100), t))\n",
        "print(\"Compound interest : {}\".format(ci))"
      ],
      "metadata": {
        "colab": {
          "base_uri": "https://localhost:8080/"
        },
        "id": "31TRnKuoIKrO",
        "outputId": "c892eebc-fb01-40f6-da00-5e4d33e27f2e"
      },
      "execution_count": null,
      "outputs": [
        {
          "output_type": "stream",
          "name": "stdout",
          "text": [
            "Enter the principal amount : 2536900\n",
            "Enter the number of years : 10\n",
            "Enter the rate of interest : 18\n",
            "Compound interest : 13277717.41643158\n"
          ]
        }
      ]
    }
  ]
}